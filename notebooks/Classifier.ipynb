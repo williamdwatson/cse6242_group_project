{
 "cells": [
  {
   "cell_type": "code",
   "execution_count": 59,
   "id": "13e11640",
   "metadata": {},
   "outputs": [],
   "source": [
    "import h5py\n",
    "import pandas as pd\n",
    "import numpy as np\n",
    "from haversine import haversine\n",
    "from tqdm import tqdm\n",
    "from sklearn.linear_model import ElasticNet, LinearRegression, Ridge, ElasticNetCV, LassoCV, Lasso\n",
    "from sklearn.model_selection import GridSearchCV, KFold, train_test_split, cross_val_score\n",
    "from sklearn.metrics import mean_squared_error, r2_score\n",
    "import seaborn as sns\n",
    "import matplotlib.pyplot as plt\n",
    "import statsmodels.api as sm\n",
    "import scipy.stats as stats\n",
    "from sklearn.preprocessing import StandardScaler, RobustScaler, scale\n",
    "from distfit import distfit\n",
    "from sklearn.decomposition import PCA\n",
    "from scipy.stats import boxcox \n",
    "import seaborn as sns \n",
    "from scipy.stats import skew \n",
    "from statistics import median\n",
    "from sklearn.svm import SVC\n",
    "from sklearn.metrics import accuracy_score, classification_report\n",
    "from sklearn.feature_selection import f_classif"
   ]
  },
  {
   "cell_type": "code",
   "execution_count": 3,
   "id": "b95c5d45",
   "metadata": {},
   "outputs": [
    {
     "data": {
      "text/html": [
       "<div>\n",
       "<style scoped>\n",
       "    .dataframe tbody tr th:only-of-type {\n",
       "        vertical-align: middle;\n",
       "    }\n",
       "\n",
       "    .dataframe tbody tr th {\n",
       "        vertical-align: top;\n",
       "    }\n",
       "\n",
       "    .dataframe thead th {\n",
       "        text-align: right;\n",
       "    }\n",
       "</style>\n",
       "<table border=\"1\" class=\"dataframe\">\n",
       "  <thead>\n",
       "    <tr style=\"text-align: right;\">\n",
       "      <th></th>\n",
       "      <th>TractFIPS</th>\n",
       "      <th>ACCESS2_CrudePrev</th>\n",
       "      <th>ARTHRITIS_CrudePrev</th>\n",
       "      <th>BINGE_CrudePrev</th>\n",
       "      <th>BPHIGH_CrudePrev</th>\n",
       "      <th>BPMED_CrudePrev</th>\n",
       "      <th>CANCER_CrudePrev</th>\n",
       "      <th>CASTHMA_CrudePrev</th>\n",
       "      <th>CERVICAL_CrudePrev</th>\n",
       "      <th>CHD_CrudePrev</th>\n",
       "      <th>...</th>\n",
       "      <th>PHLTH_CrudePrev</th>\n",
       "      <th>SLEEP_CrudePrev</th>\n",
       "      <th>STROKE_CrudePrev</th>\n",
       "      <th>TEETHLOST_CrudePrev</th>\n",
       "      <th>closest_education_nodes_travel_time</th>\n",
       "      <th>closest_food_nodes_travel_time</th>\n",
       "      <th>closest_worship_nodes_travel_time</th>\n",
       "      <th>physical_dist</th>\n",
       "      <th>transport_dist</th>\n",
       "      <th>LowIncomeTracts</th>\n",
       "    </tr>\n",
       "  </thead>\n",
       "  <tbody>\n",
       "    <tr>\n",
       "      <th>0</th>\n",
       "      <td>36047009600</td>\n",
       "      <td>34.5</td>\n",
       "      <td>15.1</td>\n",
       "      <td>15.8</td>\n",
       "      <td>26.1</td>\n",
       "      <td>68.7</td>\n",
       "      <td>3.7</td>\n",
       "      <td>9.0</td>\n",
       "      <td>73.0</td>\n",
       "      <td>5.7</td>\n",
       "      <td>...</td>\n",
       "      <td>16.9</td>\n",
       "      <td>43.7</td>\n",
       "      <td>3.2</td>\n",
       "      <td>26.2</td>\n",
       "      <td>4.0</td>\n",
       "      <td>3.0</td>\n",
       "      <td>4.0</td>\n",
       "      <td>0.158174</td>\n",
       "      <td>0.498002</td>\n",
       "      <td>1</td>\n",
       "    </tr>\n",
       "    <tr>\n",
       "      <th>1</th>\n",
       "      <td>36047011600</td>\n",
       "      <td>28.0</td>\n",
       "      <td>16.9</td>\n",
       "      <td>11.3</td>\n",
       "      <td>29.6</td>\n",
       "      <td>74.5</td>\n",
       "      <td>4.4</td>\n",
       "      <td>7.9</td>\n",
       "      <td>61.0</td>\n",
       "      <td>6.8</td>\n",
       "      <td>...</td>\n",
       "      <td>15.9</td>\n",
       "      <td>46.8</td>\n",
       "      <td>4.0</td>\n",
       "      <td>32.2</td>\n",
       "      <td>7.0</td>\n",
       "      <td>3.0</td>\n",
       "      <td>7.0</td>\n",
       "      <td>0.377913</td>\n",
       "      <td>0.535944</td>\n",
       "      <td>1</td>\n",
       "    </tr>\n",
       "    <tr>\n",
       "      <th>2</th>\n",
       "      <td>36047046000</td>\n",
       "      <td>15.0</td>\n",
       "      <td>19.0</td>\n",
       "      <td>16.9</td>\n",
       "      <td>28.0</td>\n",
       "      <td>75.4</td>\n",
       "      <td>6.1</td>\n",
       "      <td>8.3</td>\n",
       "      <td>78.3</td>\n",
       "      <td>6.1</td>\n",
       "      <td>...</td>\n",
       "      <td>12.7</td>\n",
       "      <td>40.1</td>\n",
       "      <td>3.3</td>\n",
       "      <td>17.9</td>\n",
       "      <td>9.0</td>\n",
       "      <td>7.0</td>\n",
       "      <td>9.0</td>\n",
       "      <td>0.797871</td>\n",
       "      <td>0.617204</td>\n",
       "      <td>1</td>\n",
       "    </tr>\n",
       "    <tr>\n",
       "      <th>3</th>\n",
       "      <td>36005031400</td>\n",
       "      <td>13.8</td>\n",
       "      <td>22.0</td>\n",
       "      <td>18.1</td>\n",
       "      <td>31.8</td>\n",
       "      <td>78.5</td>\n",
       "      <td>8.1</td>\n",
       "      <td>9.1</td>\n",
       "      <td>86.0</td>\n",
       "      <td>6.3</td>\n",
       "      <td>...</td>\n",
       "      <td>10.6</td>\n",
       "      <td>35.4</td>\n",
       "      <td>3.3</td>\n",
       "      <td>11.9</td>\n",
       "      <td>4.0</td>\n",
       "      <td>11.0</td>\n",
       "      <td>4.0</td>\n",
       "      <td>0.679142</td>\n",
       "      <td>0.333808</td>\n",
       "      <td>0</td>\n",
       "    </tr>\n",
       "    <tr>\n",
       "      <th>4</th>\n",
       "      <td>36005042300</td>\n",
       "      <td>26.7</td>\n",
       "      <td>16.9</td>\n",
       "      <td>18.7</td>\n",
       "      <td>28.2</td>\n",
       "      <td>68.8</td>\n",
       "      <td>4.2</td>\n",
       "      <td>11.0</td>\n",
       "      <td>82.4</td>\n",
       "      <td>5.0</td>\n",
       "      <td>...</td>\n",
       "      <td>14.4</td>\n",
       "      <td>41.5</td>\n",
       "      <td>3.0</td>\n",
       "      <td>18.4</td>\n",
       "      <td>5.0</td>\n",
       "      <td>8.0</td>\n",
       "      <td>5.0</td>\n",
       "      <td>0.000000</td>\n",
       "      <td>0.412595</td>\n",
       "      <td>1</td>\n",
       "    </tr>\n",
       "    <tr>\n",
       "      <th>...</th>\n",
       "      <td>...</td>\n",
       "      <td>...</td>\n",
       "      <td>...</td>\n",
       "      <td>...</td>\n",
       "      <td>...</td>\n",
       "      <td>...</td>\n",
       "      <td>...</td>\n",
       "      <td>...</td>\n",
       "      <td>...</td>\n",
       "      <td>...</td>\n",
       "      <td>...</td>\n",
       "      <td>...</td>\n",
       "      <td>...</td>\n",
       "      <td>...</td>\n",
       "      <td>...</td>\n",
       "      <td>...</td>\n",
       "      <td>...</td>\n",
       "      <td>...</td>\n",
       "      <td>...</td>\n",
       "      <td>...</td>\n",
       "      <td>...</td>\n",
       "    </tr>\n",
       "    <tr>\n",
       "      <th>2112</th>\n",
       "      <td>36081113900</td>\n",
       "      <td>13.9</td>\n",
       "      <td>19.7</td>\n",
       "      <td>14.7</td>\n",
       "      <td>27.6</td>\n",
       "      <td>76.9</td>\n",
       "      <td>6.2</td>\n",
       "      <td>7.9</td>\n",
       "      <td>82.1</td>\n",
       "      <td>5.7</td>\n",
       "      <td>...</td>\n",
       "      <td>12.0</td>\n",
       "      <td>38.4</td>\n",
       "      <td>2.9</td>\n",
       "      <td>12.3</td>\n",
       "      <td>4.0</td>\n",
       "      <td>15.0</td>\n",
       "      <td>4.0</td>\n",
       "      <td>0.169904</td>\n",
       "      <td>0.249437</td>\n",
       "      <td>1</td>\n",
       "    </tr>\n",
       "    <tr>\n",
       "      <th>2113</th>\n",
       "      <td>36047058000</td>\n",
       "      <td>16.8</td>\n",
       "      <td>18.3</td>\n",
       "      <td>16.3</td>\n",
       "      <td>27.4</td>\n",
       "      <td>75.9</td>\n",
       "      <td>6.1</td>\n",
       "      <td>8.0</td>\n",
       "      <td>76.4</td>\n",
       "      <td>5.8</td>\n",
       "      <td>...</td>\n",
       "      <td>12.2</td>\n",
       "      <td>39.8</td>\n",
       "      <td>3.2</td>\n",
       "      <td>17.5</td>\n",
       "      <td>0.0</td>\n",
       "      <td>2.0</td>\n",
       "      <td>0.0</td>\n",
       "      <td>0.286232</td>\n",
       "      <td>0.000000</td>\n",
       "      <td>1</td>\n",
       "    </tr>\n",
       "    <tr>\n",
       "      <th>2114</th>\n",
       "      <td>36061013900</td>\n",
       "      <td>7.6</td>\n",
       "      <td>17.3</td>\n",
       "      <td>25.0</td>\n",
       "      <td>21.2</td>\n",
       "      <td>70.5</td>\n",
       "      <td>6.0</td>\n",
       "      <td>8.8</td>\n",
       "      <td>86.8</td>\n",
       "      <td>3.7</td>\n",
       "      <td>...</td>\n",
       "      <td>8.1</td>\n",
       "      <td>35.3</td>\n",
       "      <td>1.9</td>\n",
       "      <td>6.9</td>\n",
       "      <td>3.0</td>\n",
       "      <td>4.0</td>\n",
       "      <td>3.0</td>\n",
       "      <td>0.556792</td>\n",
       "      <td>0.324271</td>\n",
       "      <td>0</td>\n",
       "    </tr>\n",
       "    <tr>\n",
       "      <th>2115</th>\n",
       "      <td>36081041400</td>\n",
       "      <td>19.8</td>\n",
       "      <td>20.3</td>\n",
       "      <td>14.8</td>\n",
       "      <td>35.0</td>\n",
       "      <td>75.4</td>\n",
       "      <td>4.9</td>\n",
       "      <td>11.7</td>\n",
       "      <td>86.9</td>\n",
       "      <td>5.2</td>\n",
       "      <td>...</td>\n",
       "      <td>14.6</td>\n",
       "      <td>47.5</td>\n",
       "      <td>4.3</td>\n",
       "      <td>23.4</td>\n",
       "      <td>5.0</td>\n",
       "      <td>9.0</td>\n",
       "      <td>5.0</td>\n",
       "      <td>0.307807</td>\n",
       "      <td>0.339795</td>\n",
       "      <td>1</td>\n",
       "    </tr>\n",
       "    <tr>\n",
       "      <th>2116</th>\n",
       "      <td>36061009800</td>\n",
       "      <td>7.1</td>\n",
       "      <td>16.9</td>\n",
       "      <td>25.8</td>\n",
       "      <td>20.0</td>\n",
       "      <td>69.8</td>\n",
       "      <td>6.1</td>\n",
       "      <td>9.0</td>\n",
       "      <td>88.0</td>\n",
       "      <td>3.5</td>\n",
       "      <td>...</td>\n",
       "      <td>7.7</td>\n",
       "      <td>34.2</td>\n",
       "      <td>1.8</td>\n",
       "      <td>6.1</td>\n",
       "      <td>2.0</td>\n",
       "      <td>1.0</td>\n",
       "      <td>2.0</td>\n",
       "      <td>0.461220</td>\n",
       "      <td>0.160318</td>\n",
       "      <td>0</td>\n",
       "    </tr>\n",
       "  </tbody>\n",
       "</table>\n",
       "<p>2117 rows × 37 columns</p>\n",
       "</div>"
      ],
      "text/plain": [
       "        TractFIPS  ACCESS2_CrudePrev  ARTHRITIS_CrudePrev  BINGE_CrudePrev  \\\n",
       "0     36047009600               34.5                 15.1             15.8   \n",
       "1     36047011600               28.0                 16.9             11.3   \n",
       "2     36047046000               15.0                 19.0             16.9   \n",
       "3     36005031400               13.8                 22.0             18.1   \n",
       "4     36005042300               26.7                 16.9             18.7   \n",
       "...           ...                ...                  ...              ...   \n",
       "2112  36081113900               13.9                 19.7             14.7   \n",
       "2113  36047058000               16.8                 18.3             16.3   \n",
       "2114  36061013900                7.6                 17.3             25.0   \n",
       "2115  36081041400               19.8                 20.3             14.8   \n",
       "2116  36061009800                7.1                 16.9             25.8   \n",
       "\n",
       "      BPHIGH_CrudePrev  BPMED_CrudePrev  CANCER_CrudePrev  CASTHMA_CrudePrev  \\\n",
       "0                 26.1             68.7               3.7                9.0   \n",
       "1                 29.6             74.5               4.4                7.9   \n",
       "2                 28.0             75.4               6.1                8.3   \n",
       "3                 31.8             78.5               8.1                9.1   \n",
       "4                 28.2             68.8               4.2               11.0   \n",
       "...                ...              ...               ...                ...   \n",
       "2112              27.6             76.9               6.2                7.9   \n",
       "2113              27.4             75.9               6.1                8.0   \n",
       "2114              21.2             70.5               6.0                8.8   \n",
       "2115              35.0             75.4               4.9               11.7   \n",
       "2116              20.0             69.8               6.1                9.0   \n",
       "\n",
       "      CERVICAL_CrudePrev  CHD_CrudePrev  ...  PHLTH_CrudePrev  \\\n",
       "0                   73.0            5.7  ...             16.9   \n",
       "1                   61.0            6.8  ...             15.9   \n",
       "2                   78.3            6.1  ...             12.7   \n",
       "3                   86.0            6.3  ...             10.6   \n",
       "4                   82.4            5.0  ...             14.4   \n",
       "...                  ...            ...  ...              ...   \n",
       "2112                82.1            5.7  ...             12.0   \n",
       "2113                76.4            5.8  ...             12.2   \n",
       "2114                86.8            3.7  ...              8.1   \n",
       "2115                86.9            5.2  ...             14.6   \n",
       "2116                88.0            3.5  ...              7.7   \n",
       "\n",
       "      SLEEP_CrudePrev  STROKE_CrudePrev  TEETHLOST_CrudePrev  \\\n",
       "0                43.7               3.2                 26.2   \n",
       "1                46.8               4.0                 32.2   \n",
       "2                40.1               3.3                 17.9   \n",
       "3                35.4               3.3                 11.9   \n",
       "4                41.5               3.0                 18.4   \n",
       "...               ...               ...                  ...   \n",
       "2112             38.4               2.9                 12.3   \n",
       "2113             39.8               3.2                 17.5   \n",
       "2114             35.3               1.9                  6.9   \n",
       "2115             47.5               4.3                 23.4   \n",
       "2116             34.2               1.8                  6.1   \n",
       "\n",
       "      closest_education_nodes_travel_time  closest_food_nodes_travel_time  \\\n",
       "0                                     4.0                             3.0   \n",
       "1                                     7.0                             3.0   \n",
       "2                                     9.0                             7.0   \n",
       "3                                     4.0                            11.0   \n",
       "4                                     5.0                             8.0   \n",
       "...                                   ...                             ...   \n",
       "2112                                  4.0                            15.0   \n",
       "2113                                  0.0                             2.0   \n",
       "2114                                  3.0                             4.0   \n",
       "2115                                  5.0                             9.0   \n",
       "2116                                  2.0                             1.0   \n",
       "\n",
       "      closest_worship_nodes_travel_time  physical_dist  transport_dist  \\\n",
       "0                                   4.0       0.158174        0.498002   \n",
       "1                                   7.0       0.377913        0.535944   \n",
       "2                                   9.0       0.797871        0.617204   \n",
       "3                                   4.0       0.679142        0.333808   \n",
       "4                                   5.0       0.000000        0.412595   \n",
       "...                                 ...            ...             ...   \n",
       "2112                                4.0       0.169904        0.249437   \n",
       "2113                                0.0       0.286232        0.000000   \n",
       "2114                                3.0       0.556792        0.324271   \n",
       "2115                                5.0       0.307807        0.339795   \n",
       "2116                                2.0       0.461220        0.160318   \n",
       "\n",
       "      LowIncomeTracts  \n",
       "0                   1  \n",
       "1                   1  \n",
       "2                   1  \n",
       "3                   0  \n",
       "4                   1  \n",
       "...               ...  \n",
       "2112                1  \n",
       "2113                1  \n",
       "2114                0  \n",
       "2115                1  \n",
       "2116                0  \n",
       "\n",
       "[2117 rows x 37 columns]"
      ]
     },
     "execution_count": 3,
     "metadata": {},
     "output_type": "execute_result"
    }
   ],
   "source": [
    "nyc_health = pd.read_csv('nyc_healthdeserts_li.csv')\n",
    "nyc_health"
   ]
  },
  {
   "cell_type": "code",
   "execution_count": 14,
   "id": "473acd7d",
   "metadata": {},
   "outputs": [],
   "source": [
    "health_cols_raw = ['access2', 'arthritis', 'binge', 'bphigh', 'bpmed', 'cancer', 'casthma', 'cervical', 'chd', 'checkup', 'cholscreen', 'colon_screen', 'copd', 'corem', 'corew', 'csmoking', 'dental', 'depression', 'diabetes', 'ghlth', 'highchol', 'kidney', 'lpa', 'mammouse', 'mhlth', 'obesity', 'phlth', 'sleep', 'stroke', 'teethlost']\n",
    "health_cols = [x.upper() +'_CrudePrev' for x in health_cols_raw]\n",
    "health_cols_bool = [x +'_abovemed' for x in health_cols]\n",
    "#desert_measures = ['education_time','food_time',\n",
    "#                   'worship_time', 'physical_dist', 'transport_dist']\n",
    "desert_measures = ['closest_education_nodes_travel_time','closest_food_nodes_travel_time',\n",
    "                   'closest_worship_nodes_travel_time', 'physical_dist', 'transport_dist']"
   ]
  },
  {
   "cell_type": "code",
   "execution_count": 70,
   "id": "40d0a215",
   "metadata": {},
   "outputs": [
    {
     "name": "stdout",
     "output_type": "stream",
     "text": [
      "16.3\n"
     ]
    },
    {
     "data": {
      "image/png": "[encoded data removed]",
      "text/plain": [
       "<Figure size 432x288 with 1 Axes>"
      ]
     },
     "metadata": {
      "needs_background": "light"
     },
     "output_type": "display_data"
    },
    {
     "name": "stdout",
     "output_type": "stream",
     "text": [
      "18.5\n"
     ]
    },
    {
     "data": {
      "image/png": "[encoded data removed]",
      "text/plain": [
       "<Figure size 432x288 with 1 Axes>"
      ]
     },
     "metadata": {
      "needs_background": "light"
     },
     "output_type": "display_data"
    },
    {
     "name": "stdout",
     "output_type": "stream",
     "text": [
      "17.3\n"
     ]
    },
    {
     "data": {
      "image/png": "[encoded data removed]",
      "text/plain": [
       "<Figure size 432x288 with 1 Axes>"
      ]
     },
     "metadata": {
      "needs_background": "light"
     },
     "output_type": "display_data"
    },
    {
     "name": "stdout",
     "output_type": "stream",
     "text": [
      "28.2\n"
     ]
    },
    {
     "data": {
      "image/png": "[encoded data removed]",
      "text/plain": [
       "<Figure size 432x288 with 1 Axes>"
      ]
     },
     "metadata": {
      "needs_background": "light"
     },
     "output_type": "display_data"
    },
    {
     "name": "stdout",
     "output_type": "stream",
     "text": [
      "74.1\n"
     ]
    },
    {
     "data": {
      "image/png": "[encoded data removed]",
      "text/plain": [
       "<Figure size 432x288 with 1 Axes>"
      ]
     },
     "metadata": {
      "needs_background": "light"
     },
     "output_type": "display_data"
    },
    {
     "name": "stdout",
     "output_type": "stream",
     "text": [
      "5.3\n"
     ]
    },
    {
     "data": {
      "image/png": "[encoded data removed]",
      "text/plain": [
       "<Figure size 432x288 with 1 Axes>"
      ]
     },
     "metadata": {
      "needs_background": "light"
     },
     "output_type": "display_data"
    },
    {
     "name": "stdout",
     "output_type": "stream",
     "text": [
      "9.4\n"
     ]
    },
    {
     "data": {
      "image/png": "[encoded data removed]",
      "text/plain": [
       "<Figure size 432x288 with 1 Axes>"
      ]
     },
     "metadata": {
      "needs_background": "light"
     },
     "output_type": "display_data"
    },
    {
     "name": "stdout",
     "output_type": "stream",
     "text": [
      "84.3\n"
     ]
    },
    {
     "data": {
      "image/png": "[encoded data removed]",
      "text/plain": [
       "<Figure size 432x288 with 1 Axes>"
      ]
     },
     "metadata": {
      "needs_background": "light"
     },
     "output_type": "display_data"
    },
    {
     "name": "stdout",
     "output_type": "stream",
     "text": [
      "5.2\n"
     ]
    },
    {
     "data": {
      "image/png": "[encoded data removed]",
      "text/plain": [
       "<Figure size 432x288 with 1 Axes>"
      ]
     },
     "metadata": {
      "needs_background": "light"
     },
     "output_type": "display_data"
    },
    {
     "name": "stdout",
     "output_type": "stream",
     "text": [
      "79.4\n"
     ]
    },
    {
     "data": {
      "image/png": "[encoded data removed]",
      "text/plain": [
       "<Figure size 432x288 with 1 Axes>"
      ]
     },
     "metadata": {
      "needs_background": "light"
     },
     "output_type": "display_data"
    },
    {
     "name": "stdout",
     "output_type": "stream",
     "text": [
      "87.8\n"
     ]
    },
    {
     "data": {
      "image/png": "[encoded data removed]",
      "text/plain": [
       "<Figure size 432x288 with 1 Axes>"
      ]
     },
     "metadata": {
      "needs_background": "light"
     },
     "output_type": "display_data"
    },
    {
     "name": "stdout",
     "output_type": "stream",
     "text": [
      "62.0\n"
     ]
    },
    {
     "data": {
      "image/png": "[encoded data removed]",
      "text/plain": [
       "<Figure size 432x288 with 1 Axes>"
      ]
     },
     "metadata": {
      "needs_background": "light"
     },
     "output_type": "display_data"
    },
    {
     "name": "stdout",
     "output_type": "stream",
     "text": [
      "5.9\n"
     ]
    },
    {
     "data": {
      "image/png": "[encoded data removed]",
      "text/plain": [
       "<Figure size 432x288 with 1 Axes>"
      ]
     },
     "metadata": {
      "needs_background": "light"
     },
     "output_type": "display_data"
    },
    {
     "name": "stdout",
     "output_type": "stream",
     "text": [
      "20.7\n"
     ]
    },
    {
     "data": {
      "image/png": "[encoded data removed]",
      "text/plain": [
       "<Figure size 432x288 with 1 Axes>"
      ]
     },
     "metadata": {
      "needs_background": "light"
     },
     "output_type": "display_data"
    },
    {
     "name": "stdout",
     "output_type": "stream",
     "text": [
      "19.25\n"
     ]
    },
    {
     "data": {
      "image/png": "[encoded data removed]",
      "text/plain": [
       "<Figure size 432x288 with 1 Axes>"
      ]
     },
     "metadata": {
      "needs_background": "light"
     },
     "output_type": "display_data"
    },
    {
     "name": "stdout",
     "output_type": "stream",
     "text": [
      "14.4\n"
     ]
    },
    {
     "data": {
      "image/png": "[encoded data removed]",
      "text/plain": [
       "<Figure size 432x288 with 1 Axes>"
      ]
     },
     "metadata": {
      "needs_background": "light"
     },
     "output_type": "display_data"
    },
    {
     "name": "stdout",
     "output_type": "stream",
     "text": [
      "63.8\n"
     ]
    },
    {
     "data": {
      "image/png": "[encoded data removed]",
      "text/plain": [
       "<Figure size 432x288 with 1 Axes>"
      ]
     },
     "metadata": {
      "needs_background": "light"
     },
     "output_type": "display_data"
    },
    {
     "name": "stdout",
     "output_type": "stream",
     "text": [
      "15.8\n"
     ]
    },
    {
     "data": {
      "image/png": "[encoded data removed]",
      "text/plain": [
       "<Figure size 432x288 with 1 Axes>"
      ]
     },
     "metadata": {
      "needs_background": "light"
     },
     "output_type": "display_data"
    },
    {
     "name": "stdout",
     "output_type": "stream",
     "text": [
      "11.0\n"
     ]
    },
    {
     "data": {
      "image/png": "[encoded data removed]",
      "text/plain": [
       "<Figure size 432x288 with 1 Axes>"
      ]
     },
     "metadata": {
      "needs_background": "light"
     },
     "output_type": "display_data"
    },
    {
     "name": "stdout",
     "output_type": "stream",
     "text": [
      "19.9\n"
     ]
    },
    {
     "data": {
      "image/png": "[encoded data removed]",
      "text/plain": [
       "<Figure size 432x288 with 1 Axes>"
      ]
     },
     "metadata": {
      "needs_background": "light"
     },
     "output_type": "display_data"
    },
    {
     "name": "stdout",
     "output_type": "stream",
     "text": [
      "29.3\n"
     ]
    },
    {
     "data": {
      "image/png": "[encoded data removed]",
      "text/plain": [
       "<Figure size 432x288 with 1 Axes>"
      ]
     },
     "metadata": {
      "needs_background": "light"
     },
     "output_type": "display_data"
    },
    {
     "name": "stdout",
     "output_type": "stream",
     "text": [
      "2.8\n"
     ]
    },
    {
     "data": {
      "image/png": "[encoded data removed]",
      "text/plain": [
       "<Figure size 432x288 with 1 Axes>"
      ]
     },
     "metadata": {
      "needs_background": "light"
     },
     "output_type": "display_data"
    },
    {
     "name": "stdout",
     "output_type": "stream",
     "text": [
      "30.1\n"
     ]
    },
    {
     "data": {
      "image/png": "[encoded data removed]",
      "text/plain": [
       "<Figure size 432x288 with 1 Axes>"
      ]
     },
     "metadata": {
      "needs_background": "light"
     },
     "output_type": "display_data"
    },
    {
     "name": "stdout",
     "output_type": "stream",
     "text": [
      "80.9\n"
     ]
    },
    {
     "data": {
      "image/png": "[encoded data removed]",
      "text/plain": [
       "<Figure size 432x288 with 1 Axes>"
      ]
     },
     "metadata": {
      "needs_background": "light"
     },
     "output_type": "display_data"
    },
    {
     "name": "stdout",
     "output_type": "stream",
     "text": [
      "13.4\n"
     ]
    },
    {
     "data": {
      "image/png": "[encoded data removed]",
      "text/plain": [
       "<Figure size 432x288 with 1 Axes>"
      ]
     },
     "metadata": {
      "needs_background": "light"
     },
     "output_type": "display_data"
    },
    {
     "name": "stdout",
     "output_type": "stream",
     "text": [
      "25.9\n"
     ]
    },
    {
     "data": {
      "image/png": "[encoded data removed]",
      "text/plain": [
       "<Figure size 432x288 with 1 Axes>"
      ]
     },
     "metadata": {
      "needs_background": "light"
     },
     "output_type": "display_data"
    },
    {
     "name": "stdout",
     "output_type": "stream",
     "text": [
      "12.2\n"
     ]
    },
    {
     "data": {
      "image/png": "[encoded data removed]",
      "text/plain": [
       "<Figure size 432x288 with 1 Axes>"
      ]
     },
     "metadata": {
      "needs_background": "light"
     },
     "output_type": "display_data"
    },
    {
     "name": "stdout",
     "output_type": "stream",
     "text": [
      "41.2\n"
     ]
    },
    {
     "data": {
      "image/png": "[encoded data removed]",
      "text/plain": [
       "<Figure size 432x288 with 1 Axes>"
      ]
     },
     "metadata": {
      "needs_background": "light"
     },
     "output_type": "display_data"
    },
    {
     "name": "stdout",
     "output_type": "stream",
     "text": [
      "3.1\n"
     ]
    },
    {
     "data": {
      "image/png": "[encoded data removed]",
      "text/plain": [
       "<Figure size 432x288 with 1 Axes>"
      ]
     },
     "metadata": {
      "needs_background": "light"
     },
     "output_type": "display_data"
    },
    {
     "name": "stdout",
     "output_type": "stream",
     "text": [
      "16.0\n"
     ]
    },
    {
     "data": {
      "image/png": "[encoded data removed]",
      "text/plain": [
       "<Figure size 432x288 with 1 Axes>"
      ]
     },
     "metadata": {
      "needs_background": "light"
     },
     "output_type": "display_data"
    },
    {
     "data": {
      "text/html": [
       "<div>\n",
       "<style scoped>\n",
       "    .dataframe tbody tr th:only-of-type {\n",
       "        vertical-align: middle;\n",
       "    }\n",
       "\n",
       "    .dataframe tbody tr th {\n",
       "        vertical-align: top;\n",
       "    }\n",
       "\n",
       "    .dataframe thead th {\n",
       "        text-align: right;\n",
       "    }\n",
       "</style>\n",
       "<table border=\"1\" class=\"dataframe\">\n",
       "  <thead>\n",
       "    <tr style=\"text-align: right;\">\n",
       "      <th></th>\n",
       "      <th>TractFIPS</th>\n",
       "      <th>ACCESS2_CrudePrev</th>\n",
       "      <th>ARTHRITIS_CrudePrev</th>\n",
       "      <th>BINGE_CrudePrev</th>\n",
       "      <th>BPHIGH_CrudePrev</th>\n",
       "      <th>BPMED_CrudePrev</th>\n",
       "      <th>CANCER_CrudePrev</th>\n",
       "      <th>CASTHMA_CrudePrev</th>\n",
       "      <th>CERVICAL_CrudePrev</th>\n",
       "      <th>CHD_CrudePrev</th>\n",
       "      <th>...</th>\n",
       "      <th>HIGHCHOL_CrudePrev_abovemed</th>\n",
       "      <th>KIDNEY_CrudePrev_abovemed</th>\n",
       "      <th>LPA_CrudePrev_abovemed</th>\n",
       "      <th>MAMMOUSE_CrudePrev_abovemed</th>\n",
       "      <th>MHLTH_CrudePrev_abovemed</th>\n",
       "      <th>OBESITY_CrudePrev_abovemed</th>\n",
       "      <th>PHLTH_CrudePrev_abovemed</th>\n",
       "      <th>SLEEP_CrudePrev_abovemed</th>\n",
       "      <th>STROKE_CrudePrev_abovemed</th>\n",
       "      <th>TEETHLOST_CrudePrev_abovemed</th>\n",
       "    </tr>\n",
       "  </thead>\n",
       "  <tbody>\n",
       "    <tr>\n",
       "      <th>0</th>\n",
       "      <td>36047009600</td>\n",
       "      <td>34.5</td>\n",
       "      <td>15.1</td>\n",
       "      <td>15.8</td>\n",
       "      <td>26.1</td>\n",
       "      <td>68.7</td>\n",
       "      <td>3.7</td>\n",
       "      <td>9.0</td>\n",
       "      <td>73.0</td>\n",
       "      <td>5.7</td>\n",
       "      <td>...</td>\n",
       "      <td>0</td>\n",
       "      <td>1</td>\n",
       "      <td>1</td>\n",
       "      <td>0</td>\n",
       "      <td>1</td>\n",
       "      <td>1</td>\n",
       "      <td>1</td>\n",
       "      <td>1</td>\n",
       "      <td>1</td>\n",
       "      <td>1</td>\n",
       "    </tr>\n",
       "    <tr>\n",
       "      <th>1</th>\n",
       "      <td>36047011600</td>\n",
       "      <td>28.0</td>\n",
       "      <td>16.9</td>\n",
       "      <td>11.3</td>\n",
       "      <td>29.6</td>\n",
       "      <td>74.5</td>\n",
       "      <td>4.4</td>\n",
       "      <td>7.9</td>\n",
       "      <td>61.0</td>\n",
       "      <td>6.8</td>\n",
       "      <td>...</td>\n",
       "      <td>1</td>\n",
       "      <td>1</td>\n",
       "      <td>1</td>\n",
       "      <td>0</td>\n",
       "      <td>1</td>\n",
       "      <td>0</td>\n",
       "      <td>1</td>\n",
       "      <td>1</td>\n",
       "      <td>1</td>\n",
       "      <td>1</td>\n",
       "    </tr>\n",
       "    <tr>\n",
       "      <th>2</th>\n",
       "      <td>36047046000</td>\n",
       "      <td>15.0</td>\n",
       "      <td>19.0</td>\n",
       "      <td>16.9</td>\n",
       "      <td>28.0</td>\n",
       "      <td>75.4</td>\n",
       "      <td>6.1</td>\n",
       "      <td>8.3</td>\n",
       "      <td>78.3</td>\n",
       "      <td>6.1</td>\n",
       "      <td>...</td>\n",
       "      <td>1</td>\n",
       "      <td>1</td>\n",
       "      <td>0</td>\n",
       "      <td>0</td>\n",
       "      <td>1</td>\n",
       "      <td>0</td>\n",
       "      <td>1</td>\n",
       "      <td>0</td>\n",
       "      <td>1</td>\n",
       "      <td>1</td>\n",
       "    </tr>\n",
       "    <tr>\n",
       "      <th>3</th>\n",
       "      <td>36005031400</td>\n",
       "      <td>13.8</td>\n",
       "      <td>22.0</td>\n",
       "      <td>18.1</td>\n",
       "      <td>31.8</td>\n",
       "      <td>78.5</td>\n",
       "      <td>8.1</td>\n",
       "      <td>9.1</td>\n",
       "      <td>86.0</td>\n",
       "      <td>6.3</td>\n",
       "      <td>...</td>\n",
       "      <td>1</td>\n",
       "      <td>1</td>\n",
       "      <td>0</td>\n",
       "      <td>0</td>\n",
       "      <td>0</td>\n",
       "      <td>0</td>\n",
       "      <td>0</td>\n",
       "      <td>0</td>\n",
       "      <td>1</td>\n",
       "      <td>0</td>\n",
       "    </tr>\n",
       "    <tr>\n",
       "      <th>4</th>\n",
       "      <td>36005042300</td>\n",
       "      <td>26.7</td>\n",
       "      <td>16.9</td>\n",
       "      <td>18.7</td>\n",
       "      <td>28.2</td>\n",
       "      <td>68.8</td>\n",
       "      <td>4.2</td>\n",
       "      <td>11.0</td>\n",
       "      <td>82.4</td>\n",
       "      <td>5.0</td>\n",
       "      <td>...</td>\n",
       "      <td>0</td>\n",
       "      <td>1</td>\n",
       "      <td>1</td>\n",
       "      <td>0</td>\n",
       "      <td>1</td>\n",
       "      <td>1</td>\n",
       "      <td>1</td>\n",
       "      <td>1</td>\n",
       "      <td>0</td>\n",
       "      <td>1</td>\n",
       "    </tr>\n",
       "    <tr>\n",
       "      <th>...</th>\n",
       "      <td>...</td>\n",
       "      <td>...</td>\n",
       "      <td>...</td>\n",
       "      <td>...</td>\n",
       "      <td>...</td>\n",
       "      <td>...</td>\n",
       "      <td>...</td>\n",
       "      <td>...</td>\n",
       "      <td>...</td>\n",
       "      <td>...</td>\n",
       "      <td>...</td>\n",
       "      <td>...</td>\n",
       "      <td>...</td>\n",
       "      <td>...</td>\n",
       "      <td>...</td>\n",
       "      <td>...</td>\n",
       "      <td>...</td>\n",
       "      <td>...</td>\n",
       "      <td>...</td>\n",
       "      <td>...</td>\n",
       "      <td>...</td>\n",
       "    </tr>\n",
       "    <tr>\n",
       "      <th>2112</th>\n",
       "      <td>36081113900</td>\n",
       "      <td>13.9</td>\n",
       "      <td>19.7</td>\n",
       "      <td>14.7</td>\n",
       "      <td>27.6</td>\n",
       "      <td>76.9</td>\n",
       "      <td>6.2</td>\n",
       "      <td>7.9</td>\n",
       "      <td>82.1</td>\n",
       "      <td>5.7</td>\n",
       "      <td>...</td>\n",
       "      <td>1</td>\n",
       "      <td>0</td>\n",
       "      <td>0</td>\n",
       "      <td>0</td>\n",
       "      <td>0</td>\n",
       "      <td>0</td>\n",
       "      <td>0</td>\n",
       "      <td>0</td>\n",
       "      <td>0</td>\n",
       "      <td>0</td>\n",
       "    </tr>\n",
       "    <tr>\n",
       "      <th>2113</th>\n",
       "      <td>36047058000</td>\n",
       "      <td>16.8</td>\n",
       "      <td>18.3</td>\n",
       "      <td>16.3</td>\n",
       "      <td>27.4</td>\n",
       "      <td>75.9</td>\n",
       "      <td>6.1</td>\n",
       "      <td>8.0</td>\n",
       "      <td>76.4</td>\n",
       "      <td>5.8</td>\n",
       "      <td>...</td>\n",
       "      <td>1</td>\n",
       "      <td>0</td>\n",
       "      <td>1</td>\n",
       "      <td>0</td>\n",
       "      <td>0</td>\n",
       "      <td>0</td>\n",
       "      <td>0</td>\n",
       "      <td>0</td>\n",
       "      <td>1</td>\n",
       "      <td>1</td>\n",
       "    </tr>\n",
       "    <tr>\n",
       "      <th>2114</th>\n",
       "      <td>36061013900</td>\n",
       "      <td>7.6</td>\n",
       "      <td>17.3</td>\n",
       "      <td>25.0</td>\n",
       "      <td>21.2</td>\n",
       "      <td>70.5</td>\n",
       "      <td>6.0</td>\n",
       "      <td>8.8</td>\n",
       "      <td>86.8</td>\n",
       "      <td>3.7</td>\n",
       "      <td>...</td>\n",
       "      <td>0</td>\n",
       "      <td>0</td>\n",
       "      <td>0</td>\n",
       "      <td>1</td>\n",
       "      <td>0</td>\n",
       "      <td>0</td>\n",
       "      <td>0</td>\n",
       "      <td>0</td>\n",
       "      <td>0</td>\n",
       "      <td>0</td>\n",
       "    </tr>\n",
       "    <tr>\n",
       "      <th>2115</th>\n",
       "      <td>36081041400</td>\n",
       "      <td>19.8</td>\n",
       "      <td>20.3</td>\n",
       "      <td>14.8</td>\n",
       "      <td>35.0</td>\n",
       "      <td>75.4</td>\n",
       "      <td>4.9</td>\n",
       "      <td>11.7</td>\n",
       "      <td>86.9</td>\n",
       "      <td>5.2</td>\n",
       "      <td>...</td>\n",
       "      <td>0</td>\n",
       "      <td>1</td>\n",
       "      <td>1</td>\n",
       "      <td>1</td>\n",
       "      <td>1</td>\n",
       "      <td>1</td>\n",
       "      <td>1</td>\n",
       "      <td>1</td>\n",
       "      <td>1</td>\n",
       "      <td>1</td>\n",
       "    </tr>\n",
       "    <tr>\n",
       "      <th>2116</th>\n",
       "      <td>36061009800</td>\n",
       "      <td>7.1</td>\n",
       "      <td>16.9</td>\n",
       "      <td>25.8</td>\n",
       "      <td>20.0</td>\n",
       "      <td>69.8</td>\n",
       "      <td>6.1</td>\n",
       "      <td>9.0</td>\n",
       "      <td>88.0</td>\n",
       "      <td>3.5</td>\n",
       "      <td>...</td>\n",
       "      <td>0</td>\n",
       "      <td>0</td>\n",
       "      <td>0</td>\n",
       "      <td>1</td>\n",
       "      <td>0</td>\n",
       "      <td>0</td>\n",
       "      <td>0</td>\n",
       "      <td>0</td>\n",
       "      <td>0</td>\n",
       "      <td>0</td>\n",
       "    </tr>\n",
       "  </tbody>\n",
       "</table>\n",
       "<p>2117 rows × 67 columns</p>\n",
       "</div>"
      ],
      "text/plain": [
       "        TractFIPS  ACCESS2_CrudePrev  ARTHRITIS_CrudePrev  BINGE_CrudePrev  \\\n",
       "0     36047009600               34.5                 15.1             15.8   \n",
       "1     36047011600               28.0                 16.9             11.3   \n",
       "2     36047046000               15.0                 19.0             16.9   \n",
       "3     36005031400               13.8                 22.0             18.1   \n",
       "4     36005042300               26.7                 16.9             18.7   \n",
       "...           ...                ...                  ...              ...   \n",
       "2112  36081113900               13.9                 19.7             14.7   \n",
       "2113  36047058000               16.8                 18.3             16.3   \n",
       "2114  36061013900                7.6                 17.3             25.0   \n",
       "2115  36081041400               19.8                 20.3             14.8   \n",
       "2116  36061009800                7.1                 16.9             25.8   \n",
       "\n",
       "      BPHIGH_CrudePrev  BPMED_CrudePrev  CANCER_CrudePrev  CASTHMA_CrudePrev  \\\n",
       "0                 26.1             68.7               3.7                9.0   \n",
       "1                 29.6             74.5               4.4                7.9   \n",
       "2                 28.0             75.4               6.1                8.3   \n",
       "3                 31.8             78.5               8.1                9.1   \n",
       "4                 28.2             68.8               4.2               11.0   \n",
       "...                ...              ...               ...                ...   \n",
       "2112              27.6             76.9               6.2                7.9   \n",
       "2113              27.4             75.9               6.1                8.0   \n",
       "2114              21.2             70.5               6.0                8.8   \n",
       "2115              35.0             75.4               4.9               11.7   \n",
       "2116              20.0             69.8               6.1                9.0   \n",
       "\n",
       "      CERVICAL_CrudePrev  CHD_CrudePrev  ...  HIGHCHOL_CrudePrev_abovemed  \\\n",
       "0                   73.0            5.7  ...                            0   \n",
       "1                   61.0            6.8  ...                            1   \n",
       "2                   78.3            6.1  ...                            1   \n",
       "3                   86.0            6.3  ...                            1   \n",
       "4                   82.4            5.0  ...                            0   \n",
       "...                  ...            ...  ...                          ...   \n",
       "2112                82.1            5.7  ...                            1   \n",
       "2113                76.4            5.8  ...                            1   \n",
       "2114                86.8            3.7  ...                            0   \n",
       "2115                86.9            5.2  ...                            0   \n",
       "2116                88.0            3.5  ...                            0   \n",
       "\n",
       "      KIDNEY_CrudePrev_abovemed  LPA_CrudePrev_abovemed  \\\n",
       "0                             1                       1   \n",
       "1                             1                       1   \n",
       "2                             1                       0   \n",
       "3                             1                       0   \n",
       "4                             1                       1   \n",
       "...                         ...                     ...   \n",
       "2112                          0                       0   \n",
       "2113                          0                       1   \n",
       "2114                          0                       0   \n",
       "2115                          1                       1   \n",
       "2116                          0                       0   \n",
       "\n",
       "      MAMMOUSE_CrudePrev_abovemed  MHLTH_CrudePrev_abovemed  \\\n",
       "0                               0                         1   \n",
       "1                               0                         1   \n",
       "2                               0                         1   \n",
       "3                               0                         0   \n",
       "4                               0                         1   \n",
       "...                           ...                       ...   \n",
       "2112                            0                         0   \n",
       "2113                            0                         0   \n",
       "2114                            1                         0   \n",
       "2115                            1                         1   \n",
       "2116                            1                         0   \n",
       "\n",
       "      OBESITY_CrudePrev_abovemed  PHLTH_CrudePrev_abovemed  \\\n",
       "0                              1                         1   \n",
       "1                              0                         1   \n",
       "2                              0                         1   \n",
       "3                              0                         0   \n",
       "4                              1                         1   \n",
       "...                          ...                       ...   \n",
       "2112                           0                         0   \n",
       "2113                           0                         0   \n",
       "2114                           0                         0   \n",
       "2115                           1                         1   \n",
       "2116                           0                         0   \n",
       "\n",
       "      SLEEP_CrudePrev_abovemed  STROKE_CrudePrev_abovemed  \\\n",
       "0                            1                          1   \n",
       "1                            1                          1   \n",
       "2                            0                          1   \n",
       "3                            0                          1   \n",
       "4                            1                          0   \n",
       "...                        ...                        ...   \n",
       "2112                         0                          0   \n",
       "2113                         0                          1   \n",
       "2114                         0                          0   \n",
       "2115                         1                          1   \n",
       "2116                         0                          0   \n",
       "\n",
       "      TEETHLOST_CrudePrev_abovemed  \n",
       "0                                1  \n",
       "1                                1  \n",
       "2                                1  \n",
       "3                                0  \n",
       "4                                1  \n",
       "...                            ...  \n",
       "2112                             0  \n",
       "2113                             1  \n",
       "2114                             0  \n",
       "2115                             1  \n",
       "2116                             0  \n",
       "\n",
       "[2117 rows x 67 columns]"
      ]
     },
     "execution_count": 70,
     "metadata": {},
     "output_type": "execute_result"
    }
   ],
   "source": [
    "for c in health_cols:\n",
    "    median = nyc_health[c].median()\n",
    "    def above_med(x):\n",
    "        if x > median:\n",
    "            return 1\n",
    "        else:\n",
    "            return 0\n",
    "    nyc_health[c+'_abovemed'] = nyc_health[c].apply(above_med)\n",
    "    plt.hist(nyc_health[c], bins=40)\n",
    "    print(median)\n",
    "    plt.show()\n",
    "    plt.close()\n",
    "nyc_health"
   ]
  },
  {
   "cell_type": "code",
   "execution_count": 71,
   "id": "05d7bbe7",
   "metadata": {},
   "outputs": [],
   "source": [
    "name_mapping = {'access2': 'Health insurance access', 'arthritis': 'Arthritis prevalence', 'binge': 'Binge drinking prevalence',\n",
    "               'bphigh': 'High blood pressure prevalence', 'bpmed': 'Medium blood pressure prevalence', 'cancer': 'Cancer prevalence',\n",
    "               'casthma': 'Asthma prevalence', 'cervical': 'Cervical cancer screenings', 'chd': 'Coronary heart disease prevalence',\n",
    "               'checkup': 'Routine checkups', 'cholscreen': 'Cholesterol screenings', 'colon_screen': 'Colon cancer screenings',\n",
    "               'copd': 'COPD prevalence', 'corem': 'Core men\\'s health', 'corew': 'Core women\\'s health', 'csmoking': 'Smoking prevalence',\n",
    "               'dental': 'Dental checkups', 'depression': 'Depression prevalence', 'diabetes': 'Diabetes prevalence', 'ghlth': 'General poor health prevalence',\n",
    "               'highchol': 'High cholesterol prevalence', 'kidney': 'Chronic kidney disease', 'lpa': 'No physical activity', 'mammouse': 'Mammograms',\n",
    "               'mhlth': 'Poor mental health prevalence', 'obesity': 'Obesity prevalence', 'phlth': 'Poor physical health', 'sleep': 'Poor sleep prevalence',\n",
    "               'stroke': 'Stroke prevalence', 'teethlost': 'Teeth loss prevalence'}\n",
    "results_nan = pd.DataFrame({'Health condition': [np.nan for c in nyc_health.columns if c.endswith('CrudePrev')], 'Train Accuracy': [np.nan for c in nyc_health.columns if c.endswith('CrudePrev')],\n",
    "                       'Test Accuracy': [np.nan for c in nyc_health.columns if c.endswith('CrudePrev')]})"
   ]
  },
  {
   "cell_type": "code",
   "execution_count": 86,
   "id": "1da1d15e",
   "metadata": {},
   "outputs": [
    {
     "data": {
      "text/html": [
       "<div>\n",
       "<style scoped>\n",
       "    .dataframe tbody tr th:only-of-type {\n",
       "        vertical-align: middle;\n",
       "    }\n",
       "\n",
       "    .dataframe tbody tr th {\n",
       "        vertical-align: top;\n",
       "    }\n",
       "\n",
       "    .dataframe thead th {\n",
       "        text-align: right;\n",
       "    }\n",
       "</style>\n",
       "<table border=\"1\" class=\"dataframe\">\n",
       "  <thead>\n",
       "    <tr style=\"text-align: right;\">\n",
       "      <th></th>\n",
       "      <th>Health condition</th>\n",
       "      <th>Train Accuracy</th>\n",
       "      <th>Test Accuracy</th>\n",
       "    </tr>\n",
       "  </thead>\n",
       "  <tbody>\n",
       "    <tr>\n",
       "      <th>0</th>\n",
       "      <td>Health insurance access</td>\n",
       "      <td>0.640783</td>\n",
       "      <td>0.594340</td>\n",
       "    </tr>\n",
       "    <tr>\n",
       "      <th>1</th>\n",
       "      <td>Arthritis prevalence</td>\n",
       "      <td>0.641458</td>\n",
       "      <td>0.646226</td>\n",
       "    </tr>\n",
       "    <tr>\n",
       "      <th>2</th>\n",
       "      <td>Binge drinking prevalence</td>\n",
       "      <td>0.618501</td>\n",
       "      <td>0.583333</td>\n",
       "    </tr>\n",
       "    <tr>\n",
       "      <th>3</th>\n",
       "      <td>High blood pressure prevalence</td>\n",
       "      <td>0.625253</td>\n",
       "      <td>0.606918</td>\n",
       "    </tr>\n",
       "    <tr>\n",
       "      <th>4</th>\n",
       "      <td>Medium blood pressure prevalence</td>\n",
       "      <td>0.644835</td>\n",
       "      <td>0.654088</td>\n",
       "    </tr>\n",
       "    <tr>\n",
       "      <th>5</th>\n",
       "      <td>Cancer prevalence</td>\n",
       "      <td>0.642134</td>\n",
       "      <td>0.646226</td>\n",
       "    </tr>\n",
       "    <tr>\n",
       "      <th>6</th>\n",
       "      <td>Asthma prevalence</td>\n",
       "      <td>0.644835</td>\n",
       "      <td>0.591195</td>\n",
       "    </tr>\n",
       "    <tr>\n",
       "      <th>7</th>\n",
       "      <td>Cervical cancer screenings</td>\n",
       "      <td>0.602296</td>\n",
       "      <td>0.545597</td>\n",
       "    </tr>\n",
       "    <tr>\n",
       "      <th>8</th>\n",
       "      <td>Coronary heart disease prevalence</td>\n",
       "      <td>0.609723</td>\n",
       "      <td>0.540881</td>\n",
       "    </tr>\n",
       "    <tr>\n",
       "      <th>9</th>\n",
       "      <td>Routine checkups</td>\n",
       "      <td>0.617826</td>\n",
       "      <td>0.663522</td>\n",
       "    </tr>\n",
       "    <tr>\n",
       "      <th>10</th>\n",
       "      <td>Cholesterol screenings</td>\n",
       "      <td>0.598244</td>\n",
       "      <td>0.605346</td>\n",
       "    </tr>\n",
       "    <tr>\n",
       "      <th>11</th>\n",
       "      <td>Colon cancer screenings</td>\n",
       "      <td>0.615125</td>\n",
       "      <td>0.555031</td>\n",
       "    </tr>\n",
       "    <tr>\n",
       "      <th>12</th>\n",
       "      <td>COPD prevalence</td>\n",
       "      <td>0.612424</td>\n",
       "      <td>0.555031</td>\n",
       "    </tr>\n",
       "    <tr>\n",
       "      <th>13</th>\n",
       "      <td>Core men's health</td>\n",
       "      <td>0.627279</td>\n",
       "      <td>0.555031</td>\n",
       "    </tr>\n",
       "    <tr>\n",
       "      <th>14</th>\n",
       "      <td>Core women's health</td>\n",
       "      <td>0.634031</td>\n",
       "      <td>0.556604</td>\n",
       "    </tr>\n",
       "    <tr>\n",
       "      <th>15</th>\n",
       "      <td>Smoking prevalence</td>\n",
       "      <td>0.613099</td>\n",
       "      <td>0.515723</td>\n",
       "    </tr>\n",
       "    <tr>\n",
       "      <th>16</th>\n",
       "      <td>Dental checkups</td>\n",
       "      <td>0.630655</td>\n",
       "      <td>0.573899</td>\n",
       "    </tr>\n",
       "    <tr>\n",
       "      <th>17</th>\n",
       "      <td>Depression prevalence</td>\n",
       "      <td>0.584740</td>\n",
       "      <td>0.580189</td>\n",
       "    </tr>\n",
       "    <tr>\n",
       "      <th>18</th>\n",
       "      <td>Diabetes prevalence</td>\n",
       "      <td>0.623228</td>\n",
       "      <td>0.551887</td>\n",
       "    </tr>\n",
       "    <tr>\n",
       "      <th>19</th>\n",
       "      <td>General poor health prevalence</td>\n",
       "      <td>0.636732</td>\n",
       "      <td>0.567610</td>\n",
       "    </tr>\n",
       "    <tr>\n",
       "      <th>20</th>\n",
       "      <td>High cholesterol prevalence</td>\n",
       "      <td>0.600945</td>\n",
       "      <td>0.594340</td>\n",
       "    </tr>\n",
       "    <tr>\n",
       "      <th>21</th>\n",
       "      <td>Chronic kidney disease</td>\n",
       "      <td>0.634031</td>\n",
       "      <td>0.562893</td>\n",
       "    </tr>\n",
       "    <tr>\n",
       "      <th>22</th>\n",
       "      <td>No physical activity</td>\n",
       "      <td>0.635381</td>\n",
       "      <td>0.553459</td>\n",
       "    </tr>\n",
       "    <tr>\n",
       "      <th>23</th>\n",
       "      <td>Mammograms</td>\n",
       "      <td>0.598920</td>\n",
       "      <td>0.561321</td>\n",
       "    </tr>\n",
       "    <tr>\n",
       "      <th>24</th>\n",
       "      <td>Poor mental health prevalence</td>\n",
       "      <td>0.627954</td>\n",
       "      <td>0.545597</td>\n",
       "    </tr>\n",
       "    <tr>\n",
       "      <th>25</th>\n",
       "      <td>Obesity prevalence</td>\n",
       "      <td>0.634031</td>\n",
       "      <td>0.599057</td>\n",
       "    </tr>\n",
       "    <tr>\n",
       "      <th>26</th>\n",
       "      <td>Poor physical health</td>\n",
       "      <td>0.625253</td>\n",
       "      <td>0.555031</td>\n",
       "    </tr>\n",
       "    <tr>\n",
       "      <th>27</th>\n",
       "      <td>Poor sleep prevalence</td>\n",
       "      <td>0.620527</td>\n",
       "      <td>0.569182</td>\n",
       "    </tr>\n",
       "    <tr>\n",
       "      <th>28</th>\n",
       "      <td>Stroke prevalence</td>\n",
       "      <td>0.621877</td>\n",
       "      <td>0.591195</td>\n",
       "    </tr>\n",
       "    <tr>\n",
       "      <th>29</th>\n",
       "      <td>Teeth loss prevalence</td>\n",
       "      <td>0.643484</td>\n",
       "      <td>0.566038</td>\n",
       "    </tr>\n",
       "  </tbody>\n",
       "</table>\n",
       "</div>"
      ],
      "text/plain": [
       "                     Health condition  Train Accuracy  Test Accuracy\n",
       "0             Health insurance access        0.640783       0.594340\n",
       "1                Arthritis prevalence        0.641458       0.646226\n",
       "2           Binge drinking prevalence        0.618501       0.583333\n",
       "3      High blood pressure prevalence        0.625253       0.606918\n",
       "4    Medium blood pressure prevalence        0.644835       0.654088\n",
       "5                   Cancer prevalence        0.642134       0.646226\n",
       "6                   Asthma prevalence        0.644835       0.591195\n",
       "7          Cervical cancer screenings        0.602296       0.545597\n",
       "8   Coronary heart disease prevalence        0.609723       0.540881\n",
       "9                    Routine checkups        0.617826       0.663522\n",
       "10             Cholesterol screenings        0.598244       0.605346\n",
       "11            Colon cancer screenings        0.615125       0.555031\n",
       "12                    COPD prevalence        0.612424       0.555031\n",
       "13                  Core men's health        0.627279       0.555031\n",
       "14                Core women's health        0.634031       0.556604\n",
       "15                 Smoking prevalence        0.613099       0.515723\n",
       "16                    Dental checkups        0.630655       0.573899\n",
       "17              Depression prevalence        0.584740       0.580189\n",
       "18                Diabetes prevalence        0.623228       0.551887\n",
       "19     General poor health prevalence        0.636732       0.567610\n",
       "20        High cholesterol prevalence        0.600945       0.594340\n",
       "21             Chronic kidney disease        0.634031       0.562893\n",
       "22               No physical activity        0.635381       0.553459\n",
       "23                         Mammograms        0.598920       0.561321\n",
       "24      Poor mental health prevalence        0.627954       0.545597\n",
       "25                 Obesity prevalence        0.634031       0.599057\n",
       "26               Poor physical health        0.625253       0.555031\n",
       "27              Poor sleep prevalence        0.620527       0.569182\n",
       "28                  Stroke prevalence        0.621877       0.591195\n",
       "29              Teeth loss prevalence        0.643484       0.566038"
      ]
     },
     "execution_count": 86,
     "metadata": {},
     "output_type": "execute_result"
    }
   ],
   "source": [
    "i=0\n",
    "results = results_nan.copy()\n",
    "for c in health_cols_bool:\n",
    "    \n",
    "    name = name_mapping[c[:-19].lower()]\n",
    "    y_data = nyc_health[c]\n",
    "    x_data = nyc_health[desert_measures]+1\n",
    "    \n",
    "    x_train, x_test, y_train, y_test = train_test_split(x_data, y_data, test_size=.3, random_state=614, shuffle=True)\n",
    "    \n",
    "    scaler = StandardScaler()\n",
    "    scaled_x_train = scaler.fit_transform(x_train)\n",
    "    scaled_x_test = scaler.transform(x_test)\n",
    "    \n",
    "    clf = SVC(gamma='auto')\n",
    "    clf.fit(scaled_x_train, y_train)\n",
    "    y_predict_train = clf.predict(scaled_x_train)\n",
    "    y_predict_test = clf.predict(scaled_x_test)\n",
    "    train_accuracy = accuracy_score(y_train, y_predict_train)\n",
    "    test_accuracy = accuracy_score(y_test, y_predict_test)\n",
    "    results.iat[i, 0] = name\n",
    "    results.iat[i, 1] = train_accuracy\n",
    "    results.iat[i, 2] = test_accuracy\n",
    "    i += 1\n",
    "results"
   ]
  },
  {
   "cell_type": "code",
   "execution_count": 87,
   "id": "a28f3840",
   "metadata": {},
   "outputs": [
    {
     "data": {
      "text/plain": [
       "array([1, 1, 1, 0, 0, 0, 1, 1, 0, 1, 1, 0, 1, 1, 1, 0, 1, 1, 0, 1, 1, 0,\n",
       "       1, 0, 0, 1, 1, 1, 0, 1, 0, 0, 1, 1, 1, 1, 1, 1, 0, 0, 1, 0, 1, 1,\n",
       "       1, 1, 0, 0, 0, 0, 0, 0, 1, 1, 1, 0, 0, 0, 1, 0, 1, 0, 1, 1, 1, 0,\n",
       "       0, 1, 1, 0, 0, 1, 1, 1, 1, 1, 0, 0, 1, 1, 0, 1, 0, 1, 1, 1, 1, 1,\n",
       "       1, 0, 1, 0, 0, 0, 1, 0, 1, 1, 0, 1, 0, 0, 0, 1, 1, 0, 1, 0, 0, 0,\n",
       "       1, 1, 1, 1, 0, 0, 1, 0, 0, 1, 1, 1, 0, 0, 0, 0, 1, 1, 1, 0, 1, 1,\n",
       "       0, 0, 0, 0, 0, 0, 1, 0, 0, 0, 0, 1, 0, 1, 0, 0, 1, 1, 1, 1, 1, 1,\n",
       "       0, 0, 1, 1, 0, 0, 1, 0, 0, 1, 1, 1, 0, 1, 0, 1, 0, 1, 1, 1, 1, 0,\n",
       "       0, 0, 1, 0, 1, 0, 1, 0, 1, 1, 1, 1, 0, 1, 1, 1, 1, 1, 0, 0, 0, 1,\n",
       "       0, 0, 1, 0, 1, 0, 0, 0, 0, 0, 1, 1, 1, 0, 0, 0, 0, 1, 0, 0, 1, 1,\n",
       "       1, 0, 1, 0, 1, 1, 1, 1, 1, 0, 1, 1, 0, 0, 1, 0, 1, 1, 0, 1, 1, 1,\n",
       "       0, 0, 0, 1, 1, 1, 1, 0, 1, 0, 1, 1, 0, 1, 0, 1, 1, 1, 0, 1, 0, 1,\n",
       "       1, 0, 0, 0, 1, 1, 0, 1, 1, 0, 0, 1, 0, 0, 0, 0, 1, 1, 1, 1, 1, 1,\n",
       "       0, 0, 0, 1, 0, 1, 0, 0, 0, 1, 0, 1, 1, 1, 1, 0, 0, 0, 0, 1, 1, 1,\n",
       "       0, 1, 1, 0, 0, 1, 1, 1, 0, 0, 1, 0, 1, 0, 1, 0, 0, 0, 0, 1, 1, 0,\n",
       "       0, 0, 1, 1, 1, 0, 0, 0, 0, 1, 0, 1, 0, 0, 1, 0, 0, 1, 0, 1, 1, 1,\n",
       "       0, 0, 1, 0, 0, 1, 0, 0, 1, 1, 0, 1, 1, 1, 0, 0, 0, 0, 0, 0, 0, 1,\n",
       "       1, 0, 0, 0, 1, 1, 0, 1, 0, 1, 1, 1, 0, 1, 0, 1, 0, 1, 1, 1, 0, 1,\n",
       "       1, 0, 0, 1, 0, 0, 0, 0, 1, 0, 1, 1, 1, 1, 1, 1, 1, 0, 1, 1, 0, 0,\n",
       "       0, 0, 0, 1, 1, 1, 0, 1, 0, 0, 1, 0, 1, 1, 0, 1, 1, 1, 1, 1, 0, 1,\n",
       "       0, 1, 1, 1, 0, 0, 1, 0, 0, 0, 1, 1, 1, 1, 1, 1, 1, 1, 0, 1, 0, 0,\n",
       "       1, 1, 1, 0, 0, 0, 0, 0, 0, 1, 0, 0, 1, 1, 1, 0, 0, 1, 0, 0, 0, 1,\n",
       "       0, 0, 0, 1, 0, 1, 1, 1, 1, 1, 0, 1, 0, 1, 1, 1, 1, 1, 0, 0, 1, 1,\n",
       "       1, 0, 0, 1, 0, 1, 1, 0, 1, 1, 1, 0, 0, 1, 0, 0, 1, 1, 1, 0, 0, 1,\n",
       "       1, 0, 1, 0, 1, 1, 1, 0, 1, 0, 0, 1, 0, 1, 1, 0, 0, 0, 1, 0, 0, 0,\n",
       "       0, 0, 1, 0, 1, 0, 0, 0, 0, 0, 1, 1, 1, 1, 0, 0, 1, 0, 0, 1, 0, 1,\n",
       "       0, 0, 0, 1, 1, 1, 0, 0, 0, 0, 1, 1, 0, 0, 1, 1, 1, 0, 1, 1, 1, 1,\n",
       "       1, 0, 0, 1, 0, 1, 1, 0, 1, 0, 1, 1, 0, 0, 1, 0, 0, 0, 1, 0, 0, 1,\n",
       "       1, 0, 1, 0, 0, 0, 1, 0, 0, 0, 1, 1, 0, 1, 0, 1, 0, 1, 1, 1])"
      ]
     },
     "execution_count": 87,
     "metadata": {},
     "output_type": "execute_result"
    }
   ],
   "source": [
    "y_predict_test"
   ]
  },
  {
   "cell_type": "code",
   "execution_count": 77,
   "id": "00f7c91b",
   "metadata": {},
   "outputs": [
    {
     "name": "stdout",
     "output_type": "stream",
     "text": [
      "0.6326806212018906 0.6132075471698113\n"
     ]
    }
   ],
   "source": [
    "y_data = nyc_health['LowIncomeTracts']\n",
    "x_data = nyc_health[desert_measures]\n",
    "\n",
    "x_train, x_test, y_train, y_test = train_test_split(x_data, y_data, test_size=.3, random_state=614, shuffle=True)\n",
    "\n",
    "scaler = StandardScaler()\n",
    "scaled_x_train = scaler.fit_transform(x_train)\n",
    "scaled_x_test = scaler.transform(x_test)\n",
    "\n",
    "clf = SVC(gamma='auto')\n",
    "clf.fit(scaled_x_train, y_train)\n",
    "y_predict_train = clf.predict(scaled_x_train)\n",
    "y_predict_test = clf.predict(scaled_x_test)\n",
    "train_accuracy = accuracy_score(y_train, y_predict_train)\n",
    "test_accuracy = accuracy_score(y_test, y_predict_test)\n",
    "print(train_accuracy, test_accuracy)"
   ]
  },
  {
   "cell_type": "code",
   "execution_count": 83,
   "id": "6cf096fa",
   "metadata": {},
   "outputs": [
    {
     "name": "stdout",
     "output_type": "stream",
     "text": [
      "0.861580013504389 0.8411949685534591\n"
     ]
    }
   ],
   "source": [
    "y_data = nyc_health['LowIncomeTracts']\n",
    "x_data = nyc_health[[health_cols[3], health_cols[5],health_cols[18],health_cols[28]]]\n",
    "\n",
    "x_train, x_test, y_train, y_test = train_test_split(x_data, y_data, test_size=.3, random_state=614, shuffle=True)\n",
    "\n",
    "scaler = StandardScaler()\n",
    "scaled_x_train = scaler.fit_transform(x_train)\n",
    "scaled_x_test = scaler.transform(x_test)\n",
    "\n",
    "clf = SVC(gamma='auto')\n",
    "clf.fit(scaled_x_train, y_train)\n",
    "y_predict_train = clf.predict(scaled_x_train)\n",
    "y_predict_test = clf.predict(scaled_x_test)\n",
    "train_accuracy = accuracy_score(y_train, y_predict_train)\n",
    "test_accuracy = accuracy_score(y_test, y_predict_test)\n",
    "print(train_accuracy, test_accuracy)"
   ]
  },
  {
   "cell_type": "code",
   "execution_count": 84,
   "id": "e5aa01b0",
   "metadata": {},
   "outputs": [
    {
     "name": "stdout",
     "output_type": "stream",
     "text": [
      "0.861580013504389 0.8569182389937107\n"
     ]
    }
   ],
   "source": [
    "y_data = nyc_health['LowIncomeTracts']\n",
    "x_data = nyc_health[desert_measures + [health_cols[3], health_cols[5],health_cols[18],health_cols[28]]]\n",
    "\n",
    "x_train, x_test, y_train, y_test = train_test_split(x_data, y_data, test_size=.3, random_state=614, shuffle=True)\n",
    "\n",
    "scaler = StandardScaler()\n",
    "scaled_x_train = scaler.fit_transform(x_train)\n",
    "scaled_x_test = scaler.transform(x_test)\n",
    "\n",
    "clf = SVC(gamma='auto')\n",
    "clf.fit(scaled_x_train, y_train)\n",
    "y_predict_train = clf.predict(scaled_x_train)\n",
    "y_predict_test = clf.predict(scaled_x_test)\n",
    "train_accuracy = accuracy_score(y_train, y_predict_train)\n",
    "test_accuracy = accuracy_score(y_test, y_predict_test)\n",
    "print(train_accuracy, test_accuracy)"
   ]
  },
  {
   "cell_type": "code",
   "execution_count": 85,
   "id": "f6398f0c",
   "metadata": {},
   "outputs": [
    {
     "data": {
      "text/plain": [
       "(array([ 45.92900369,   5.07413021,  45.92900369,  21.06139853,\n",
       "         40.41312349, 167.48804287, 238.82935964, 560.5938349 ,\n",
       "        285.06580514]),\n",
       " array([1.76543967e-011, 2.44315406e-002, 1.76543967e-011, 4.82435059e-006,\n",
       "        2.73197660e-010, 2.27515949e-036, 4.64804604e-050, 2.40140556e-105,\n",
       "        1.27333505e-058]))"
      ]
     },
     "execution_count": 85,
     "metadata": {},
     "output_type": "execute_result"
    }
   ],
   "source": [
    "f_classif(x_train, y_train)"
   ]
  },
  {
   "cell_type": "code",
   "execution_count": null,
   "id": "c5616867",
   "metadata": {},
   "outputs": [],
   "source": []
  }
 ],
 "metadata": {
  "kernelspec": {
   "display_name": "Python [conda env:root] *",
   "language": "python",
   "name": "conda-root-py"
  },
  "language_info": {
   "codemirror_mode": {
    "name": "ipython",
    "version": 3
   },
   "file_extension": ".py",
   "mimetype": "text/x-python",
   "name": "python",
   "nbconvert_exporter": "python",
   "pygments_lexer": "ipython3",
   "version": "3.7.10"
  }
 },
 "nbformat": 4,
 "nbformat_minor": 5
}

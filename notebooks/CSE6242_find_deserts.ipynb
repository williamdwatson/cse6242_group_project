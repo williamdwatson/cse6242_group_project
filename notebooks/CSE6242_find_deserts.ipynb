{
 "cells": [
  {
   "cell_type": "code",
   "execution_count": 1,
   "id": "black-insulation",
   "metadata": {},
   "outputs": [],
   "source": [
    "import h5py\n",
    "import osmnx as ox\n",
    "import pandas as pd\n",
    "import numpy as np\n",
    "import networkx as nx\n",
    "from tqdm import tqdm\n",
    "from itertools import product\n",
    "from functools import cache\n",
    "from scipy.spatial import KDTree\n",
    "from haversine import haversine"
   ]
  },
  {
   "cell_type": "code",
   "execution_count": 30,
   "id": "derived-pottery",
   "metadata": {},
   "outputs": [],
   "source": [
    "# Referenced:\n",
    "# https://towardsdatascience.com/finding-time-dependent-travel-times-between-every-pair-of-locations-in-manhattan-c3c48b0db7ba\n",
    "# https://towardsdatascience.com/shortest-path-algorithm-with-osm-walking-network-6d2863ae96be\n",
    "# https://osmnx.readthedocs.io/en/stable/osmnx.html and https://github.com/gboeing/osmnx\n",
    "# https://movement.uber.com/?lang=en-US\n",
    "\n",
    "### Update the city name and speed files, if available. If not, just make sure they point to a real speed file ###\n",
    "place = 'New York, NY'\n",
    "savename = r'C:\\Users\\willd\\Documents\\Georgia Tech\\CSE6424\\Project\\ZCTA_New_York.csv'\n",
    "speed_path = r'C:\\Users\\willd\\Documents\\Georgia Tech\\CSE6424\\Project\\2020_speeds_new_york.csv'"
   ]
  },
  {
   "cell_type": "code",
   "execution_count": 31,
   "id": "black-fifteen",
   "metadata": {},
   "outputs": [
    {
     "name": "stderr",
     "output_type": "stream",
     "text": [
      "C:\\Users\\willd\\Anaconda3\\envs\\ox\\lib\\site-packages\\osmnx\\geocoder.py:110: FutureWarning: The frame.append method is deprecated and will be removed from pandas in a future version. Use pandas.concat instead.\n",
      "  gdf = gdf.append(_geocode_query_to_gdf(q, wr, by_osmid))\n"
     ]
    },
    {
     "name": "stdout",
     "output_type": "stream",
     "text": [
      "Got graph\n",
      "Got speeds\n",
      "Got travel times\n",
      "Got largest connected component\n"
     ]
    }
   ],
   "source": [
    "# Get the graph and the speeds associated with all edges\n",
    "graph = ox.graph_from_place(place, network_type='drive')\n",
    "print('Got graph')\n",
    "graph = ox.add_edge_speeds(graph)\n",
    "print('Got speeds')\n",
    "graph = ox.add_edge_travel_times(graph)\n",
    "print('Got travel times')\n",
    "graph = ox.utils_graph.get_largest_component(graph, strongly=True)\n",
    "print('Got largest connected component')\n",
    "# If you want to save for future use\n",
    "#ox.save_graphml(graph, r'C:\\Users\\willd\\Documents\\Georgia Tech\\CSE6424\\Project\\new_york_metro_area_cleaned.graphml')\n",
    "#graph = ox.load_graphml(r'C:\\Users\\willd\\Documents\\Georgia Tech\\CSE6424\\Project\\new_york_metro_area_cleaned.graphml')"
   ]
  },
  {
   "cell_type": "code",
   "execution_count": 32,
   "id": "descending-advantage",
   "metadata": {},
   "outputs": [
    {
     "name": "stdout",
     "output_type": "stream",
     "text": [
      "139975 55228\n"
     ]
    }
   ],
   "source": [
    "# How big is the graph?\n",
    "print(len(graph.edges), len(graph.nodes))"
   ]
  },
  {
   "cell_type": "code",
   "execution_count": 33,
   "id": "caroline-purse",
   "metadata": {},
   "outputs": [
    {
     "name": "stderr",
     "output_type": "stream",
     "text": [
      "C:\\Users\\willd\\Anaconda3\\envs\\ox\\lib\\site-packages\\osmnx\\geocoder.py:110: FutureWarning: The frame.append method is deprecated and will be removed from pandas in a future version. Use pandas.concat instead.\n",
      "  gdf = gdf.append(_geocode_query_to_gdf(q, wr, by_osmid))\n"
     ]
    }
   ],
   "source": [
    "# Find all food stores\n",
    "food_tags = {'shop': 'supermarket', 'amenity': 'marketplace'}\n",
    "food_places = ox.geometries_from_place(place, food_tags)"
   ]
  },
  {
   "cell_type": "code",
   "execution_count": 34,
   "id": "recorded-economics",
   "metadata": {},
   "outputs": [],
   "source": [
    "# Replace Polygons with a single point\n",
    "food_places.loc[food_places['geometry'].type == 'Polygon', 'geometry'] = food_places.loc[food_places['geometry'].type == 'Polygon', 'geometry'].representative_point()"
   ]
  },
  {
   "cell_type": "code",
   "execution_count": 35,
   "id": "synthetic-retailer",
   "metadata": {},
   "outputs": [
    {
     "name": "stderr",
     "output_type": "stream",
     "text": [
      "C:\\Users\\willd\\Anaconda3\\envs\\ox\\lib\\site-packages\\osmnx\\geocoder.py:110: FutureWarning: The frame.append method is deprecated and will be removed from pandas in a future version. Use pandas.concat instead.\n",
      "  gdf = gdf.append(_geocode_query_to_gdf(q, wr, by_osmid))\n",
      "C:\\Users\\willd\\Anaconda3\\envs\\ox\\lib\\site-packages\\osmnx\\geometries.py:805: ShapelyDeprecationWarning: __len__ for multi-part geometries is deprecated and will be removed in Shapely 2.0. Check the length of the `geoms` property instead to get the  number of parts of a multi-part geometry.\n",
      "  for merged_outer_linestring in list(merged_outer_linestrings):\n",
      "C:\\Users\\willd\\Anaconda3\\envs\\ox\\lib\\site-packages\\osmnx\\geometries.py:805: ShapelyDeprecationWarning: Iteration over multi-part geometries is deprecated and will be removed in Shapely 2.0. Use the `geoms` property to access the constituent parts of a multi-part geometry.\n",
      "  for merged_outer_linestring in list(merged_outer_linestrings):\n"
     ]
    }
   ],
   "source": [
    "# Find all major green places or recreational areas\n",
    "physical_tags = {'leisure': ['park', 'recreation_ground', 'playground', 'fitness_station', 'sports_centre', 'nature_reserve', 'pitch']}\n",
    "physical_places = ox.geometries_from_place(place, physical_tags)\n",
    "physical_places.loc[physical_places['geometry'].type == 'Polygon', 'geometry'] = physical_places.loc[physical_places['geometry'].type == 'Polygon', 'geometry'].representative_point()"
   ]
  },
  {
   "cell_type": "code",
   "execution_count": 36,
   "id": "facial-relevance",
   "metadata": {},
   "outputs": [
    {
     "name": "stderr",
     "output_type": "stream",
     "text": [
      "C:\\Users\\willd\\Anaconda3\\envs\\ox\\lib\\site-packages\\osmnx\\geocoder.py:110: FutureWarning: The frame.append method is deprecated and will be removed from pandas in a future version. Use pandas.concat instead.\n",
      "  gdf = gdf.append(_geocode_query_to_gdf(q, wr, by_osmid))\n"
     ]
    }
   ],
   "source": [
    "# Find public transit\n",
    "transport_tags = {'public_transport': ['platform', 'stop_position'], 'highway': ['bus_stop', 'platform'],\n",
    "                 'railway': ['subway_entrance', 'station', 'tram', 'tram_stop'], 'station': 'subway'}\n",
    "transport_places = ox.geometries_from_place(place, transport_tags)\n",
    "transport_places.loc[transport_places['geometry'].type == 'Polygon', 'geometry'] = transport_places.loc[transport_places['geometry'].type == 'Polygon', 'geometry'].representative_point()"
   ]
  },
  {
   "cell_type": "code",
   "execution_count": 37,
   "id": "ecological-hotel",
   "metadata": {},
   "outputs": [
    {
     "name": "stderr",
     "output_type": "stream",
     "text": [
      "C:\\Users\\willd\\Anaconda3\\envs\\ox\\lib\\site-packages\\osmnx\\geocoder.py:110: FutureWarning: The frame.append method is deprecated and will be removed from pandas in a future version. Use pandas.concat instead.\n",
      "  gdf = gdf.append(_geocode_query_to_gdf(q, wr, by_osmid))\n",
      "C:\\Users\\willd\\Anaconda3\\envs\\ox\\lib\\site-packages\\osmnx\\geometries.py:805: ShapelyDeprecationWarning: __len__ for multi-part geometries is deprecated and will be removed in Shapely 2.0. Check the length of the `geoms` property instead to get the  number of parts of a multi-part geometry.\n",
      "  for merged_outer_linestring in list(merged_outer_linestrings):\n",
      "C:\\Users\\willd\\Anaconda3\\envs\\ox\\lib\\site-packages\\osmnx\\geometries.py:805: ShapelyDeprecationWarning: Iteration over multi-part geometries is deprecated and will be removed in Shapely 2.0. Use the `geoms` property to access the constituent parts of a multi-part geometry.\n",
      "  for merged_outer_linestring in list(merged_outer_linestrings):\n"
     ]
    }
   ],
   "source": [
    "# Find libraries and schools\n",
    "education_tags = {'amenity': ['library', 'school', 'kindergarten']}\n",
    "education_places = ox.geometries_from_place(place, education_tags)\n",
    "education_places.loc[education_places['geometry'].type == 'Polygon', 'geometry'] = education_places.loc[education_places['geometry'].type == 'Polygon', 'geometry'].representative_point()"
   ]
  },
  {
   "cell_type": "code",
   "execution_count": 38,
   "id": "institutional-senegal",
   "metadata": {},
   "outputs": [
    {
     "name": "stderr",
     "output_type": "stream",
     "text": [
      "C:\\Users\\willd\\Anaconda3\\envs\\ox\\lib\\site-packages\\osmnx\\geocoder.py:110: FutureWarning: The frame.append method is deprecated and will be removed from pandas in a future version. Use pandas.concat instead.\n",
      "  gdf = gdf.append(_geocode_query_to_gdf(q, wr, by_osmid))\n",
      "C:\\Users\\willd\\Anaconda3\\envs\\ox\\lib\\site-packages\\osmnx\\geometries.py:805: ShapelyDeprecationWarning: __len__ for multi-part geometries is deprecated and will be removed in Shapely 2.0. Check the length of the `geoms` property instead to get the  number of parts of a multi-part geometry.\n",
      "  for merged_outer_linestring in list(merged_outer_linestrings):\n",
      "C:\\Users\\willd\\Anaconda3\\envs\\ox\\lib\\site-packages\\osmnx\\geometries.py:805: ShapelyDeprecationWarning: Iteration over multi-part geometries is deprecated and will be removed in Shapely 2.0. Use the `geoms` property to access the constituent parts of a multi-part geometry.\n",
      "  for merged_outer_linestring in list(merged_outer_linestrings):\n"
     ]
    }
   ],
   "source": [
    "# Find places of worship\n",
    "worship_tags = {'amenity': 'place_of_worship'}\n",
    "worship_places = ox.geometries_from_place(place, worship_tags)\n",
    "worship_places.loc[worship_places['geometry'].type == 'Polygon', 'geometry'] = worship_places.loc[worship_places['geometry'].type == 'Polygon', 'geometry'].representative_point()"
   ]
  },
  {
   "cell_type": "code",
   "execution_count": 39,
   "id": "dress-adult",
   "metadata": {},
   "outputs": [],
   "source": [
    "# Simplify everything\n",
    "food_places = food_places['geometry'].droplevel(0)\n",
    "physical_places = physical_places['geometry'].droplevel(0)\n",
    "transport_places = transport_places['geometry'].droplevel(0)\n",
    "education_places = education_places['geometry'].droplevel(0)\n",
    "worship_places = worship_places['geometry'].droplevel(0)\n",
    "food_places = food_places[food_places.type == 'Point']\n",
    "physical_places = physical_places[physical_places.type == 'Point']\n",
    "transport_places = transport_places[transport_places.type == 'Point']\n",
    "education_places = education_places[education_places.type == 'Point']\n",
    "worship_places = worship_places[worship_places.type == 'Point']"
   ]
  },
  {
   "cell_type": "code",
   "execution_count": 40,
   "id": "acquired-baseball",
   "metadata": {},
   "outputs": [],
   "source": [
    "# Load the speed data\n",
    "speed_raw = pd.read_csv(speed_path)"
   ]
  },
  {
   "cell_type": "code",
   "execution_count": 41,
   "id": "medical-style",
   "metadata": {},
   "outputs": [],
   "source": [
    "# Remove unnecessary columns\n",
    "speed_raw.drop(columns=['quarter', 'year', 'segment_id', 'start_junction_id', 'end_junction_id'], inplace=True)\n",
    "# Noon seems like a fair time\n",
    "speed_raw = speed_raw[speed_raw['hour_of_day'] == 12]\n",
    "speed_raw.set_index('osm_way_id', drop=True, inplace=True)"
   ]
  },
  {
   "cell_type": "code",
   "execution_count": 43,
   "id": "tracked-steering",
   "metadata": {},
   "outputs": [
    {
     "name": "stderr",
     "output_type": "stream",
     "text": [
      "100%|████████████████████████████████████████████████████████████████████████| 139975/139975 [01:10<00:00, 1985.86it/s]\n"
     ]
    }
   ],
   "source": [
    "# Find the real speed information by matching up OSM with UberMovement if possible\n",
    "diffs = []\n",
    "dists = []\n",
    "real_calculation = 0\n",
    "for edge in tqdm(graph.edges):\n",
    "    # length is meters, speed_kph is kph (duh), maxspeed has units in string, and travel_time is seconds\n",
    "    e = graph[edge[0]][edge[1]][edge[2]]\n",
    "    if isinstance(e['osmid'], list):\n",
    "        # Some graph edges are made up of multiple OSM ways apparently\n",
    "        for osmid in e['osmid']:\n",
    "            try:\n",
    "                meters_per_second = speed_raw.at[osmid, 'speed_mph_mean']*0.44704    # Convert to meters/sec\n",
    "                time = e['length']/meters_per_second\n",
    "                if isinstance(time, float) and isinstance(e['travel_time'], float):\n",
    "                    diffs.append(time - e['travel_time'])\n",
    "                    dists.append(e['length'])\n",
    "                real_calculation += 1\n",
    "                break\n",
    "            except (KeyError, ZeroDivisionError):\n",
    "                time = e['travel_time']     # Backup (i.e. length/speed limit) if Uber data isn't available\n",
    "    else:\n",
    "        try:\n",
    "            meters_per_second = speed_raw.at[e['osmid'], 'speed_mph_mean']*0.44704\n",
    "            time = e['length']/meters_per_second\n",
    "            real_calculation += 1\n",
    "        except (KeyError, ZeroDivisionError):\n",
    "            time = e['travel_time']\n",
    "    if isinstance(time, pd.Series):\n",
    "        # This is an occasional error when reading in the CSV\n",
    "        time = time.mean()\n",
    "    graph[edge[0]][edge[1]][edge[2]]['actual_travel_time'] = time"
   ]
  },
  {
   "cell_type": "code",
   "execution_count": 44,
   "id": "resident-latest",
   "metadata": {},
   "outputs": [
    {
     "name": "stdout",
     "output_type": "stream",
     "text": [
      "7.5413888370318505 287.114783339047\n"
     ]
    }
   ],
   "source": [
    "# What's the discrepancy between streets with and without real travel times?\n",
    "print(np.nanmean(diffs), np.nanmean(dists))"
   ]
  },
  {
   "cell_type": "code",
   "execution_count": 14,
   "id": "nuclear-indonesia",
   "metadata": {},
   "outputs": [],
   "source": [
    "### Update with the Census health tracts data ###\n",
    "health = pd.read_csv(r'C:\\Users\\willd\\Documents\\Georgia Tech\\CSE6424\\Project\\PLACES__Census_Tract_Data__GIS_Friendly_Format___2021_release.csv')"
   ]
  },
  {
   "cell_type": "code",
   "execution_count": 15,
   "id": "nominated-concord",
   "metadata": {},
   "outputs": [],
   "source": [
    "# Parse the lat/long\n",
    "health['zcta_x'] = health['Geolocation'].map(lambda x: x.lstrip('POINT (').rstrip(')').split(' ')[0]).astype(np.float32)\n",
    "health['zcta_y'] = health['Geolocation'].map(lambda x: x.lstrip('POINT (').rstrip(')').split(' ')[1]).astype(np.float32)"
   ]
  },
  {
   "cell_type": "code",
   "execution_count": 16,
   "id": "quarterly-child",
   "metadata": {},
   "outputs": [
    {
     "name": "stdout",
     "output_type": "stream",
     "text": [
      "Number: 75\n"
     ]
    }
   ],
   "source": [
    "# Find the nearest OSM nodes to the census tract centers\n",
    "all_nearest_nodes, dists = ox.distance.nearest_nodes(graph, health['zcta_x'].to_numpy(), health['zcta_y'].to_numpy(), return_dist=True)\n",
    "# If it's more than 1km away from anything in the graph, then we probably don't want it\n",
    "all_nearest_nodes = np.asarray(all_nearest_nodes)[np.asarray(dists) < 1000]\n",
    "health = health[np.asarray(dists) < 1000]\n",
    "print('Number left:', all_nearest_nodes.shape[0])\n",
    "food_closest_travel_times = np.full(all_nearest_nodes.shape[0], np.nan, dtype=np.float32)\n",
    "physical_closest_dist = food_closest_travel_times.copy()\n",
    "transport_closest_dist = food_closest_travel_times.copy()\n",
    "education_closest_travel_times = food_closest_travel_times.copy()\n",
    "worship_closest_travel_times = food_closest_travel_times.copy()"
   ]
  },
  {
   "cell_type": "code",
   "execution_count": 17,
   "id": "continuing-copying",
   "metadata": {},
   "outputs": [
    {
     "name": "stdout",
     "output_type": "stream",
     "text": [
      "Found food Number within 1km: 132 Number total: 140\n",
      "Found physical Number within 1km: 2814 Number total: 3050\n",
      "Found transport Number within 1km: 484 Number total: 488\n",
      "Found education Number within 1km: 573 Number total: 605\n",
      "Found worship Number within 1km: 1273 Number total: 1311\n"
     ]
    }
   ],
   "source": [
    "# Find the nearest nodes to each of the features of interest\n",
    "food_nodes, dists = ox.distance.nearest_nodes(graph, [x.x for x in food_places], [x.y for x in food_places], return_dist=True)\n",
    "print('Found food', 'Number within 1km:', np.count_nonzero(np.asarray(dists) < 1000), 'Number total:', len(food_nodes))\n",
    "food_nodes = np.asarray(food_nodes)[np.asarray(dists) < 1000]\n",
    "physical_nodes, dists = ox.distance.nearest_nodes(graph, [x.x for x in physical_places], [x.y for x in physical_places], return_dist=True)\n",
    "print('Found physical', 'Number within 1km:', np.count_nonzero(np.asarray(dists) < 1000), 'Number total:', len(physical_nodes))\n",
    "physical_nodes = np.asarray(physical_nodes)[np.asarray(dists) < 1000]\n",
    "transport_nodes, dists = ox.distance.nearest_nodes(graph, [x.x for x in transport_places], [x.y for x in transport_places], return_dist=True)\n",
    "print('Found transport', 'Number within 1km:', np.count_nonzero(np.asarray(dists) < 1000), 'Number total:', len(transport_nodes))\n",
    "transport_nodes = np.asarray(transport_nodes)[np.asarray(dists) < 1000]\n",
    "education_nodes, dists = ox.distance.nearest_nodes(graph, [x.x for x in education_places], [x.y for x in education_places], return_dist=True)\n",
    "print('Found education', 'Number within 1km:', np.count_nonzero(np.asarray(dists) < 1000), 'Number total:', len(education_nodes))\n",
    "education_nodes = np.asarray(education_nodes)[np.asarray(dists) < 1000]\n",
    "worship_nodes, dists = ox.distance.nearest_nodes(graph, [x.x for x in worship_places], [x.y for x in worship_places], return_dist=True)\n",
    "print('Found worship', 'Number within 1km:', np.count_nonzero(np.asarray(dists) < 1000), 'Number total:', len(worship_nodes))\n",
    "worship_nodes = np.asarray(worship_nodes)[np.asarray(dists) < 1000]"
   ]
  },
  {
   "cell_type": "code",
   "execution_count": 18,
   "id": "abandoned-literature",
   "metadata": {},
   "outputs": [],
   "source": [
    "# Convert their lats/lons to an array\n",
    "food_lat_lons = np.array([[graph.nodes[x]['x'] for x in food_nodes], [graph.nodes[x]['y'] for x in food_nodes]], dtype=np.float32).T\n",
    "physical_lat_lons = np.array([[graph.nodes[x]['x'] for x in physical_nodes], [graph.nodes[x]['y'] for x in physical_nodes]], dtype=np.float32).T\n",
    "transport_lat_lons = np.array([[graph.nodes[x]['x'] for x in transport_nodes], [graph.nodes[x]['y'] for x in transport_nodes]], dtype=np.float32).T\n",
    "education_lat_lons = np.array([[graph.nodes[x]['x'] for x in education_nodes], [graph.nodes[x]['y'] for x in education_nodes]], dtype=np.float32).T\n",
    "worship_lat_lons = np.array([[graph.nodes[x]['x'] for x in worship_nodes], [graph.nodes[x]['y'] for x in worship_nodes]], dtype=np.float32).T"
   ]
  },
  {
   "cell_type": "code",
   "execution_count": 19,
   "id": "attempted-convention",
   "metadata": {},
   "outputs": [],
   "source": [
    "# Create the k-d trees for quick querying\n",
    "food_tree = KDTree(food_lat_lons)\n",
    "physical_tree = KDTree(physical_lat_lons)\n",
    "transport_tree = KDTree(transport_lat_lons)\n",
    "education_tree = KDTree(education_lat_lons)\n",
    "worship_tree = KDTree(worship_lat_lons)"
   ]
  },
  {
   "cell_type": "code",
   "execution_count": 20,
   "id": "continent-kruger",
   "metadata": {},
   "outputs": [],
   "source": [
    "# Easy lat/lon distance calculations\n",
    "def haversine_wrapper(lat1, lon1, lat2, lon2):\n",
    "    return haversine((lat1, lon1), (lat2, lon2))"
   ]
  },
  {
   "cell_type": "code",
   "execution_count": 21,
   "id": "capital-bryan",
   "metadata": {},
   "outputs": [
    {
     "name": "stderr",
     "output_type": "stream",
     "text": [
      "100%|████████████████████████████████████████████████████████████████████████████████| 75/75 [00:00<00:00, 2491.65it/s]\n"
     ]
    }
   ],
   "source": [
    "# Find the nearest nodes using the k-d trees\n",
    "closest_food_nodes = []\n",
    "closest_education_nodes = []\n",
    "closest_worship_nodes = []\n",
    "for i, sample_node in tqdm(enumerate(all_nearest_nodes), total=len(all_nearest_nodes)):\n",
    "    idxes = food_tree.query((graph.nodes[sample_node]['x'], graph.nodes[sample_node]['y']), k=5)[1]\n",
    "    closest_food_nodes.append(food_nodes[idxes])\n",
    "    idx = physical_tree.query((graph.nodes[sample_node]['x'], graph.nodes[sample_node]['y']), k=1)[1]\n",
    "    dist = haversine_wrapper(graph.nodes[sample_node]['y'], graph.nodes[sample_node]['x'], physical_lat_lons[idx, 1], physical_lat_lons[idx, 0])\n",
    "    physical_closest_dist[i] = dist\n",
    "    idx = transport_tree.query((graph.nodes[sample_node]['x'], graph.nodes[sample_node]['y']), k=1)[1]\n",
    "    dist = haversine_wrapper(graph.nodes[sample_node]['y'], graph.nodes[sample_node]['x'], transport_lat_lons[idx, 1], transport_lat_lons[idx, 0])\n",
    "    transport_closest_dist[i] = dist\n",
    "    idxes = education_tree.query((graph.nodes[sample_node]['x'], graph.nodes[sample_node]['y']), k=5)[1]\n",
    "    closest_education_nodes.append(education_nodes[idxes])\n",
    "    idxes = worship_tree.query((graph.nodes[sample_node]['x'], graph.nodes[sample_node]['y']), k=5)[1]\n",
    "    closest_worship_nodes.append(worship_nodes[idxes])"
   ]
  },
  {
   "cell_type": "code",
   "execution_count": 22,
   "id": "weighted-journal",
   "metadata": {},
   "outputs": [],
   "source": [
    "# Calculate the shortest path using Dijkstra's\n",
    "@cache    # Trying to speed things up a little\n",
    "def shortest_path(source, target):\n",
    "    return nx.shortest_path_length(graph, source=source, target=target, weight='actual_travel_time')"
   ]
  },
  {
   "cell_type": "code",
   "execution_count": 23,
   "id": "black-decline",
   "metadata": {},
   "outputs": [
    {
     "name": "stderr",
     "output_type": "stream",
     "text": [
      "100%|██████████████████████████████████████████████████████████████████████████████████| 75/75 [00:05<00:00, 13.50it/s]\n"
     ]
    }
   ],
   "source": [
    "# Find the shortest path/closest node to each feature node from each census node\n",
    "for i, sample_node in enumerate(tqdm(all_nearest_nodes)):\n",
    "    current_shortest = np.inf\n",
    "    shortest_node = 0\n",
    "    for food_node in closest_food_nodes[i]:\n",
    "        shortest = shortest_path(sample_node, food_node)\n",
    "        if shortest < current_shortest:\n",
    "            current_shortest = shortest\n",
    "            shortest_node = food_node\n",
    "    food_closest_travel_times[i] = current_shortest\n",
    "    \n",
    "    current_shortest = np.inf\n",
    "    shortest_node = 0\n",
    "    for education_node in closest_education_nodes[i]:\n",
    "        shortest = shortest_path(sample_node, education_node)\n",
    "        if shortest < current_shortest:\n",
    "            current_shortest = shortest\n",
    "            shortest_node = education_node\n",
    "    education_closest_travel_times[i] = current_shortest\n",
    "    \n",
    "    current_shortest = np.inf\n",
    "    shortest_node = 0\n",
    "    for worship_node in closest_worship_nodes[i]:\n",
    "        shortest = shortest_path(sample_node, worship_node)\n",
    "        if shortest < current_shortest:\n",
    "            current_shortest = shortest\n",
    "            shortest_node = worship_node\n",
    "    worship_closest_travel_times[i] = current_shortest"
   ]
  },
  {
   "cell_type": "code",
   "execution_count": 24,
   "id": "willing-recipe",
   "metadata": {},
   "outputs": [
    {
     "data": {
      "text/html": [
       "<div>\n",
       "<style scoped>\n",
       "    .dataframe tbody tr th:only-of-type {\n",
       "        vertical-align: middle;\n",
       "    }\n",
       "\n",
       "    .dataframe tbody tr th {\n",
       "        vertical-align: top;\n",
       "    }\n",
       "\n",
       "    .dataframe thead th {\n",
       "        text-align: right;\n",
       "    }\n",
       "</style>\n",
       "<table border=\"1\" class=\"dataframe\">\n",
       "  <thead>\n",
       "    <tr style=\"text-align: right;\">\n",
       "      <th></th>\n",
       "      <th>ZCTA5</th>\n",
       "      <th>TotalPopulation</th>\n",
       "      <th>ACCESS2_CrudePrev</th>\n",
       "      <th>ACCESS2_Crude95CI</th>\n",
       "      <th>ARTHRITIS_CrudePrev</th>\n",
       "      <th>ARTHRITIS_Crude95CI</th>\n",
       "      <th>BINGE_CrudePrev</th>\n",
       "      <th>BINGE_Crude95CI</th>\n",
       "      <th>BPHIGH_CrudePrev</th>\n",
       "      <th>BPHIGH_Crude95CI</th>\n",
       "      <th>...</th>\n",
       "      <th>TEETHLOST_CrudePrev</th>\n",
       "      <th>TEETHLOST_Crude95CI</th>\n",
       "      <th>Geolocation</th>\n",
       "      <th>zcta_x</th>\n",
       "      <th>zcta_y</th>\n",
       "      <th>food_closest_travel_times</th>\n",
       "      <th>physical_closest_dist</th>\n",
       "      <th>transport_closest_dist</th>\n",
       "      <th>education_closest_travel_times</th>\n",
       "      <th>worship_closest_travel_times</th>\n",
       "    </tr>\n",
       "  </thead>\n",
       "  <tbody>\n",
       "    <tr>\n",
       "      <th>19038</th>\n",
       "      <td>77047</td>\n",
       "      <td>21077</td>\n",
       "      <td>28.4</td>\n",
       "      <td>(26.3, 30.6)</td>\n",
       "      <td>20.8</td>\n",
       "      <td>(20.3, 21.3)</td>\n",
       "      <td>17.6</td>\n",
       "      <td>(17.2, 17.9)</td>\n",
       "      <td>37.0</td>\n",
       "      <td>(36.3, 37.7)</td>\n",
       "      <td>...</td>\n",
       "      <td>18.9</td>\n",
       "      <td>(13.9, 24.3)</td>\n",
       "      <td>POINT (-95.3865954 29.6084493)</td>\n",
       "      <td>-95.386597</td>\n",
       "      <td>29.608450</td>\n",
       "      <td>506.399994</td>\n",
       "      <td>0.805984</td>\n",
       "      <td>0.814393</td>\n",
       "      <td>268.000000</td>\n",
       "      <td>0.000000</td>\n",
       "    </tr>\n",
       "    <tr>\n",
       "      <th>19067</th>\n",
       "      <td>77088</td>\n",
       "      <td>49660</td>\n",
       "      <td>37.6</td>\n",
       "      <td>(36.2, 38.8)</td>\n",
       "      <td>23.3</td>\n",
       "      <td>(23.0, 23.6)</td>\n",
       "      <td>16.0</td>\n",
       "      <td>(15.8, 16.2)</td>\n",
       "      <td>39.6</td>\n",
       "      <td>(39.2, 39.9)</td>\n",
       "      <td>...</td>\n",
       "      <td>23.4</td>\n",
       "      <td>(21.6, 25.4)</td>\n",
       "      <td>POINT (-95.45356169 29.88180657)</td>\n",
       "      <td>-95.453560</td>\n",
       "      <td>29.881807</td>\n",
       "      <td>287.100006</td>\n",
       "      <td>0.345974</td>\n",
       "      <td>1.839086</td>\n",
       "      <td>20.000000</td>\n",
       "      <td>55.900002</td>\n",
       "    </tr>\n",
       "    <tr>\n",
       "      <th>19242</th>\n",
       "      <td>77087</td>\n",
       "      <td>36399</td>\n",
       "      <td>49.2</td>\n",
       "      <td>(47.3, 51.2)</td>\n",
       "      <td>20.3</td>\n",
       "      <td>(20.0, 20.6)</td>\n",
       "      <td>16.7</td>\n",
       "      <td>(16.5, 17.0)</td>\n",
       "      <td>34.4</td>\n",
       "      <td>(34.0, 34.8)</td>\n",
       "      <td>...</td>\n",
       "      <td>25.1</td>\n",
       "      <td>(23.1, 27.2)</td>\n",
       "      <td>POINT (-95.30343992 29.68607999)</td>\n",
       "      <td>-95.303436</td>\n",
       "      <td>29.686081</td>\n",
       "      <td>149.399994</td>\n",
       "      <td>0.398267</td>\n",
       "      <td>2.335928</td>\n",
       "      <td>70.400002</td>\n",
       "      <td>39.900002</td>\n",
       "    </tr>\n",
       "    <tr>\n",
       "      <th>19446</th>\n",
       "      <td>77055</td>\n",
       "      <td>41989</td>\n",
       "      <td>36.5</td>\n",
       "      <td>(34.9, 38.2)</td>\n",
       "      <td>19.2</td>\n",
       "      <td>(18.9, 19.4)</td>\n",
       "      <td>19.0</td>\n",
       "      <td>(18.8, 19.3)</td>\n",
       "      <td>29.8</td>\n",
       "      <td>(29.4, 30.1)</td>\n",
       "      <td>...</td>\n",
       "      <td>16.3</td>\n",
       "      <td>(14.4, 18.1)</td>\n",
       "      <td>POINT (-95.4917735 29.80742053)</td>\n",
       "      <td>-95.491776</td>\n",
       "      <td>29.807421</td>\n",
       "      <td>120.900002</td>\n",
       "      <td>0.488102</td>\n",
       "      <td>2.790692</td>\n",
       "      <td>20.200001</td>\n",
       "      <td>39.599998</td>\n",
       "    </tr>\n",
       "    <tr>\n",
       "      <th>19523</th>\n",
       "      <td>77022</td>\n",
       "      <td>29557</td>\n",
       "      <td>49.9</td>\n",
       "      <td>(47.8, 51.7)</td>\n",
       "      <td>23.3</td>\n",
       "      <td>(23.0, 23.6)</td>\n",
       "      <td>15.6</td>\n",
       "      <td>(15.4, 15.9)</td>\n",
       "      <td>38.5</td>\n",
       "      <td>(38.1, 38.9)</td>\n",
       "      <td>...</td>\n",
       "      <td>30.5</td>\n",
       "      <td>(28.0, 32.9)</td>\n",
       "      <td>POINT (-95.37699027 29.83056201)</td>\n",
       "      <td>-95.376991</td>\n",
       "      <td>29.830563</td>\n",
       "      <td>0.000000</td>\n",
       "      <td>0.367838</td>\n",
       "      <td>0.199864</td>\n",
       "      <td>33.700001</td>\n",
       "      <td>0.000000</td>\n",
       "    </tr>\n",
       "    <tr>\n",
       "      <th>...</th>\n",
       "      <td>...</td>\n",
       "      <td>...</td>\n",
       "      <td>...</td>\n",
       "      <td>...</td>\n",
       "      <td>...</td>\n",
       "      <td>...</td>\n",
       "      <td>...</td>\n",
       "      <td>...</td>\n",
       "      <td>...</td>\n",
       "      <td>...</td>\n",
       "      <td>...</td>\n",
       "      <td>...</td>\n",
       "      <td>...</td>\n",
       "      <td>...</td>\n",
       "      <td>...</td>\n",
       "      <td>...</td>\n",
       "      <td>...</td>\n",
       "      <td>...</td>\n",
       "      <td>...</td>\n",
       "      <td>...</td>\n",
       "      <td>...</td>\n",
       "    </tr>\n",
       "    <tr>\n",
       "      <th>27517</th>\n",
       "      <td>77077</td>\n",
       "      <td>52151</td>\n",
       "      <td>20.5</td>\n",
       "      <td>(19.7, 21.3)</td>\n",
       "      <td>19.4</td>\n",
       "      <td>(19.1, 19.7)</td>\n",
       "      <td>19.1</td>\n",
       "      <td>(19.0, 19.3)</td>\n",
       "      <td>29.2</td>\n",
       "      <td>(28.9, 29.6)</td>\n",
       "      <td>...</td>\n",
       "      <td>8.4</td>\n",
       "      <td>( 6.9, 10.7)</td>\n",
       "      <td>POINT (-95.6154378 29.75014795)</td>\n",
       "      <td>-95.615440</td>\n",
       "      <td>29.750149</td>\n",
       "      <td>81.300003</td>\n",
       "      <td>0.625678</td>\n",
       "      <td>0.266252</td>\n",
       "      <td>88.000000</td>\n",
       "      <td>62.099998</td>\n",
       "    </tr>\n",
       "    <tr>\n",
       "      <th>27554</th>\n",
       "      <td>77027</td>\n",
       "      <td>14331</td>\n",
       "      <td>14.0</td>\n",
       "      <td>(13.1, 15.2)</td>\n",
       "      <td>18.0</td>\n",
       "      <td>(17.6, 18.4)</td>\n",
       "      <td>22.1</td>\n",
       "      <td>(21.8, 22.4)</td>\n",
       "      <td>25.2</td>\n",
       "      <td>(24.8, 25.7)</td>\n",
       "      <td>...</td>\n",
       "      <td>5.5</td>\n",
       "      <td>( 4.2,  7.5)</td>\n",
       "      <td>POINT (-95.44591312 29.74019055)</td>\n",
       "      <td>-95.445915</td>\n",
       "      <td>29.740191</td>\n",
       "      <td>0.000000</td>\n",
       "      <td>0.344911</td>\n",
       "      <td>0.371581</td>\n",
       "      <td>44.200001</td>\n",
       "      <td>39.299999</td>\n",
       "    </tr>\n",
       "    <tr>\n",
       "      <th>27918</th>\n",
       "      <td>77048</td>\n",
       "      <td>15294</td>\n",
       "      <td>29.7</td>\n",
       "      <td>(27.4, 32.0)</td>\n",
       "      <td>26.2</td>\n",
       "      <td>(25.6, 26.9)</td>\n",
       "      <td>14.9</td>\n",
       "      <td>(14.6, 15.2)</td>\n",
       "      <td>45.3</td>\n",
       "      <td>(44.5, 46.0)</td>\n",
       "      <td>...</td>\n",
       "      <td>23.9</td>\n",
       "      <td>(19.1, 28.9)</td>\n",
       "      <td>POINT (-95.33029018 29.62042202)</td>\n",
       "      <td>-95.330292</td>\n",
       "      <td>29.620422</td>\n",
       "      <td>583.000000</td>\n",
       "      <td>1.851361</td>\n",
       "      <td>2.752591</td>\n",
       "      <td>48.900002</td>\n",
       "      <td>94.800003</td>\n",
       "    </tr>\n",
       "    <tr>\n",
       "      <th>28037</th>\n",
       "      <td>77092</td>\n",
       "      <td>33745</td>\n",
       "      <td>40.4</td>\n",
       "      <td>(38.4, 42.2)</td>\n",
       "      <td>21.6</td>\n",
       "      <td>(21.3, 21.9)</td>\n",
       "      <td>17.6</td>\n",
       "      <td>(17.4, 17.9)</td>\n",
       "      <td>33.9</td>\n",
       "      <td>(33.5, 34.3)</td>\n",
       "      <td>...</td>\n",
       "      <td>19.9</td>\n",
       "      <td>(18.0, 21.8)</td>\n",
       "      <td>POINT (-95.47380503 29.82965393)</td>\n",
       "      <td>-95.473808</td>\n",
       "      <td>29.829655</td>\n",
       "      <td>107.500000</td>\n",
       "      <td>0.028031</td>\n",
       "      <td>4.236812</td>\n",
       "      <td>38.700001</td>\n",
       "      <td>33.400002</td>\n",
       "    </tr>\n",
       "    <tr>\n",
       "      <th>28038</th>\n",
       "      <td>77012</td>\n",
       "      <td>20719</td>\n",
       "      <td>53.6</td>\n",
       "      <td>(49.9, 56.5)</td>\n",
       "      <td>17.9</td>\n",
       "      <td>(17.5, 18.4)</td>\n",
       "      <td>17.4</td>\n",
       "      <td>(17.0, 17.9)</td>\n",
       "      <td>31.3</td>\n",
       "      <td>(30.7, 31.9)</td>\n",
       "      <td>...</td>\n",
       "      <td>21.6</td>\n",
       "      <td>(18.4, 24.8)</td>\n",
       "      <td>POINT (-95.27432526 29.7189424)</td>\n",
       "      <td>-95.274323</td>\n",
       "      <td>29.718943</td>\n",
       "      <td>169.600006</td>\n",
       "      <td>0.136190</td>\n",
       "      <td>3.320707</td>\n",
       "      <td>27.600000</td>\n",
       "      <td>43.900002</td>\n",
       "    </tr>\n",
       "  </tbody>\n",
       "</table>\n",
       "<p>75 rows × 70 columns</p>\n",
       "</div>"
      ],
      "text/plain": [
       "       ZCTA5  TotalPopulation  ACCESS2_CrudePrev ACCESS2_Crude95CI  \\\n",
       "19038  77047            21077               28.4      (26.3, 30.6)   \n",
       "19067  77088            49660               37.6      (36.2, 38.8)   \n",
       "19242  77087            36399               49.2      (47.3, 51.2)   \n",
       "19446  77055            41989               36.5      (34.9, 38.2)   \n",
       "19523  77022            29557               49.9      (47.8, 51.7)   \n",
       "...      ...              ...                ...               ...   \n",
       "27517  77077            52151               20.5      (19.7, 21.3)   \n",
       "27554  77027            14331               14.0      (13.1, 15.2)   \n",
       "27918  77048            15294               29.7      (27.4, 32.0)   \n",
       "28037  77092            33745               40.4      (38.4, 42.2)   \n",
       "28038  77012            20719               53.6      (49.9, 56.5)   \n",
       "\n",
       "       ARTHRITIS_CrudePrev ARTHRITIS_Crude95CI  BINGE_CrudePrev  \\\n",
       "19038                 20.8        (20.3, 21.3)             17.6   \n",
       "19067                 23.3        (23.0, 23.6)             16.0   \n",
       "19242                 20.3        (20.0, 20.6)             16.7   \n",
       "19446                 19.2        (18.9, 19.4)             19.0   \n",
       "19523                 23.3        (23.0, 23.6)             15.6   \n",
       "...                    ...                 ...              ...   \n",
       "27517                 19.4        (19.1, 19.7)             19.1   \n",
       "27554                 18.0        (17.6, 18.4)             22.1   \n",
       "27918                 26.2        (25.6, 26.9)             14.9   \n",
       "28037                 21.6        (21.3, 21.9)             17.6   \n",
       "28038                 17.9        (17.5, 18.4)             17.4   \n",
       "\n",
       "      BINGE_Crude95CI  BPHIGH_CrudePrev BPHIGH_Crude95CI  ...  \\\n",
       "19038    (17.2, 17.9)              37.0     (36.3, 37.7)  ...   \n",
       "19067    (15.8, 16.2)              39.6     (39.2, 39.9)  ...   \n",
       "19242    (16.5, 17.0)              34.4     (34.0, 34.8)  ...   \n",
       "19446    (18.8, 19.3)              29.8     (29.4, 30.1)  ...   \n",
       "19523    (15.4, 15.9)              38.5     (38.1, 38.9)  ...   \n",
       "...               ...               ...              ...  ...   \n",
       "27517    (19.0, 19.3)              29.2     (28.9, 29.6)  ...   \n",
       "27554    (21.8, 22.4)              25.2     (24.8, 25.7)  ...   \n",
       "27918    (14.6, 15.2)              45.3     (44.5, 46.0)  ...   \n",
       "28037    (17.4, 17.9)              33.9     (33.5, 34.3)  ...   \n",
       "28038    (17.0, 17.9)              31.3     (30.7, 31.9)  ...   \n",
       "\n",
       "       TEETHLOST_CrudePrev TEETHLOST_Crude95CI  \\\n",
       "19038                 18.9        (13.9, 24.3)   \n",
       "19067                 23.4        (21.6, 25.4)   \n",
       "19242                 25.1        (23.1, 27.2)   \n",
       "19446                 16.3        (14.4, 18.1)   \n",
       "19523                 30.5        (28.0, 32.9)   \n",
       "...                    ...                 ...   \n",
       "27517                  8.4        ( 6.9, 10.7)   \n",
       "27554                  5.5        ( 4.2,  7.5)   \n",
       "27918                 23.9        (19.1, 28.9)   \n",
       "28037                 19.9        (18.0, 21.8)   \n",
       "28038                 21.6        (18.4, 24.8)   \n",
       "\n",
       "                            Geolocation     zcta_x     zcta_y  \\\n",
       "19038    POINT (-95.3865954 29.6084493) -95.386597  29.608450   \n",
       "19067  POINT (-95.45356169 29.88180657) -95.453560  29.881807   \n",
       "19242  POINT (-95.30343992 29.68607999) -95.303436  29.686081   \n",
       "19446   POINT (-95.4917735 29.80742053) -95.491776  29.807421   \n",
       "19523  POINT (-95.37699027 29.83056201) -95.376991  29.830563   \n",
       "...                                 ...        ...        ...   \n",
       "27517   POINT (-95.6154378 29.75014795) -95.615440  29.750149   \n",
       "27554  POINT (-95.44591312 29.74019055) -95.445915  29.740191   \n",
       "27918  POINT (-95.33029018 29.62042202) -95.330292  29.620422   \n",
       "28037  POINT (-95.47380503 29.82965393) -95.473808  29.829655   \n",
       "28038   POINT (-95.27432526 29.7189424) -95.274323  29.718943   \n",
       "\n",
       "      food_closest_travel_times  physical_closest_dist transport_closest_dist  \\\n",
       "19038                506.399994               0.805984               0.814393   \n",
       "19067                287.100006               0.345974               1.839086   \n",
       "19242                149.399994               0.398267               2.335928   \n",
       "19446                120.900002               0.488102               2.790692   \n",
       "19523                  0.000000               0.367838               0.199864   \n",
       "...                         ...                    ...                    ...   \n",
       "27517                 81.300003               0.625678               0.266252   \n",
       "27554                  0.000000               0.344911               0.371581   \n",
       "27918                583.000000               1.851361               2.752591   \n",
       "28037                107.500000               0.028031               4.236812   \n",
       "28038                169.600006               0.136190               3.320707   \n",
       "\n",
       "       education_closest_travel_times worship_closest_travel_times  \n",
       "19038                      268.000000                     0.000000  \n",
       "19067                       20.000000                    55.900002  \n",
       "19242                       70.400002                    39.900002  \n",
       "19446                       20.200001                    39.599998  \n",
       "19523                       33.700001                     0.000000  \n",
       "...                               ...                          ...  \n",
       "27517                       88.000000                    62.099998  \n",
       "27554                       44.200001                    39.299999  \n",
       "27918                       48.900002                    94.800003  \n",
       "28037                       38.700001                    33.400002  \n",
       "28038                       27.600000                    43.900002  \n",
       "\n",
       "[75 rows x 70 columns]"
      ]
     },
     "execution_count": 24,
     "metadata": {},
     "output_type": "execute_result"
    }
   ],
   "source": [
    "# Get the results ready\n",
    "health['food_closest_travel_times'] = food_closest_travel_times\n",
    "health['physical_closest_dist'] = physical_closest_dist\n",
    "health['transport_closest_dist'] = transport_closest_dist\n",
    "health['education_closest_travel_times'] = education_closest_travel_times\n",
    "health['worship_closest_travel_times'] = worship_closest_travel_times\n",
    "health"
   ]
  },
  {
   "cell_type": "code",
   "execution_count": 25,
   "id": "moderate-ukraine",
   "metadata": {},
   "outputs": [],
   "source": [
    "# Save the results off\n",
    "health.to_csv(savename)"
   ]
  }
 ],
 "metadata": {
  "kernelspec": {
   "display_name": "Python [conda env:ox]",
   "language": "python",
   "name": "conda-env-ox-py"
  },
  "language_info": {
   "codemirror_mode": {
    "name": "ipython",
    "version": 3
   },
   "file_extension": ".py",
   "mimetype": "text/x-python",
   "name": "python",
   "nbconvert_exporter": "python",
   "pygments_lexer": "ipython3",
   "version": "3.10.4"
  }
 },
 "nbformat": 4,
 "nbformat_minor": 5
}

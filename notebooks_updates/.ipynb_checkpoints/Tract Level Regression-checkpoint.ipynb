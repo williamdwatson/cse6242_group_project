{
 "cells": [
  {
   "cell_type": "code",
   "execution_count": null,
   "id": "e9fa34a1",
   "metadata": {},
   "outputs": [],
   "source": [
    "import pandas as pd\n",
    "import numpy as np\n",
    "from tqdm import tqdm\n",
    "from sklearn.linear_model import LassoCV, Lasso\n",
    "from sklearn.model_selection import train_test_split \n",
    "from sklearn.metrics import mean_squared_error, r2_score\n",
    "import statsmodels.api as sm\n",
    "import scipy.stats as stats\n",
    "from sklearn.preprocessing import StandardScaler, scale"
   ]
  },
  {
   "cell_type": "markdown",
   "id": "9d60b06a",
   "metadata": {},
   "source": [
    "# Set Variables:"
   ]
  },
  {
   "cell_type": "code",
   "execution_count": null,
   "id": "800a9fcc",
   "metadata": {},
   "outputs": [],
   "source": [
    "####################################### SET VARS HERE ###########################################################\n",
    "\n",
    "# place_abbr is used to name files saved by this notebook. The commented code below shows the place_abbr strings used\n",
    "# to name files in the /data folder\n",
    "\n",
    "place_abbr = 'nyc'\n",
    "#place_abbr = 'seattle'\n",
    "#place_abbr = 'nyc'\n",
    "#place_abbr = 'houston'\n",
    "#place_abbr = 'sf'\n",
    "#place_abbr = 'atlanta'\n",
    "\n",
    "#set path of desert_tracts file\n",
    "tracts_deserts_path = 'data/tract_desert_measures/nyc_desert_tracts.csv'\n",
    "\n",
    "#set directory to save dataset output files to\n",
    "save_data_dir = 'data/tract_health/'\n",
    "\n",
    "#set name of merged desert and health data with log transformed and non-log transforned desert measures\n",
    "save_data_name =  place_abbr+'_tract_health.csv' #no log transform\n",
    "save_transf_data_name =  place_abbr+'_tract_health_logt.csv' #with log transform\n",
    "\n",
    "#set directory to save regression output files to\n",
    "save_regression_path = 'data/tract_health/results/'\n",
    "\n",
    "#set name of regression output files\n",
    "save_lasso_name = place_abbr+'_tract_lasso_results'"
   ]
  },
  {
   "cell_type": "markdown",
   "id": "3872918f",
   "metadata": {},
   "source": [
    "# Aggregation/Cleaning"
   ]
  },
  {
   "cell_type": "code",
   "execution_count": null,
   "id": "5fa20ab4",
   "metadata": {},
   "outputs": [],
   "source": [
    "tracts_deserts = pd.read_csv(tracts_deserts_path, dtype={'GEOID':'str'})\n",
    "tracts_deserts = tracts_deserts.rename(columns={'GEOID':'TractFIPS'})"
   ]
  },
  {
   "cell_type": "code",
   "execution_count": null,
   "id": "8a57abb2",
   "metadata": {},
   "outputs": [],
   "source": [
    "tracts_health = pd.read_csv(\"data/PLACES__Census_Tract_Data__GIS_Friendly_Format___2021_release.csv\", dtype={'TractFIPS':'str'})\n",
    "tracts_health = pd.merge(tracts_health, tracts_deserts, on='TractFIPS')\n",
    "\n",
    "income_vars = pd.read_csv('data/tract_incomevars.csv', dtype=str).astype({'PovertyRate':'float', 'TractFIPS':'str'})\n",
    "tracts_health = pd.merge(tracts_health, income_vars, on='TractFIPS')\n",
    "\n",
    "tracts_health.to_csv(save_data_dir+save_data_name, index=False)"
   ]
  },
  {
   "cell_type": "code",
   "execution_count": null,
   "id": "25e73061",
   "metadata": {},
   "outputs": [],
   "source": [
    "desert_measures = ['food_closest_travel_times', 'physical_closest_dist', 'transport_closest_dist', 'education_closest_travel_times', 'worship_closest_travel_times']\n",
    "\n",
    "tracts_health_logt = tracts_health.copy()\n",
    "tracts_health_logt[desert_measures] = tracts_health_logt[desert_measures].apply(lambda x: np.log(x+1))\n",
    "tracts_health_logt.to_csv(save_data_dir + save_transf_data_name, index=False)"
   ]
  },
  {
   "cell_type": "markdown",
   "id": "a7fbbda4",
   "metadata": {},
   "source": [
    "# Analysis"
   ]
  },
  {
   "cell_type": "code",
   "execution_count": null,
   "id": "ed405c78",
   "metadata": {},
   "outputs": [],
   "source": [
    "name_mapping = {'access2': 'Health insurance access', 'arthritis': 'Arthritis prevalence', 'binge': 'Binge drinking prevalence',\n",
    "               'bphigh': 'High blood pressure prevalence', 'bpmed': 'Medium blood pressure prevalence', 'cancer': 'Cancer prevalence',\n",
    "               'casthma': 'Asthma prevalence', 'cervical': 'Cervical cancer screenings', 'chd': 'Coronary heart disease prevalence',\n",
    "               'checkup': 'Routine checkups', 'cholscreen': 'Cholesterol screenings', 'colon_screen': 'Colon cancer screenings',\n",
    "               'copd': 'COPD prevalence', 'corem': 'Core men\\'s health', 'corew': 'Core women\\'s health', 'csmoking': 'Smoking prevalence',\n",
    "               'dental': 'Dental checkups', 'depression': 'Depression prevalence', 'diabetes': 'Diabetes prevalence', 'ghlth': 'General poor health prevalence',\n",
    "               'highchol': 'High cholesterol prevalence', 'kidney': 'Chronic kidney disease', 'lpa': 'No physical activity', 'mammouse': 'Mammograms',\n",
    "               'mhlth': 'Poor mental health prevalence', 'obesity': 'Obesity prevalence', 'phlth': 'Poor physical health', 'sleep': 'Poor sleep prevalence',\n",
    "               'stroke': 'Stroke prevalence', 'teethlost': 'Teeth loss prevalence'}\n",
    "\n",
    "results_all_nan = pd.DataFrame({'Health condition': [np.nan for c in tracts_health.columns if c.endswith('CrudePrev')], 'Food': [np.nan for c in tracts_health.columns if c.endswith('CrudePrev')],\n",
    "                       'Physical health': [np.nan for c in tracts_health.columns if c.endswith('CrudePrev')], 'Public transport': [np.nan for c in tracts_health.columns if c.endswith('CrudePrev')],\n",
    "                        'Education': [np.nan for c in tracts_health.columns if c.endswith('CrudePrev')], 'Houses of worship': [np.nan for c in tracts_health.columns if c.endswith('CrudePrev')],\n",
    "                       'Poverty Rate': [np.nan for c in tracts_health.columns if c.endswith('CrudePrev')], 'RSquared': [np.nan for c in tracts_health.columns if c.endswith('CrudePrev')], \n",
    "                            'MSE': [np.nan for c in tracts_health.columns if c.endswith('CrudePrev')]})\n",
    "results_nan = pd.DataFrame({'Health condition': [np.nan for c in tracts_health.columns if c.endswith('CrudePrev')], 'Food': [np.nan for c in tracts_health.columns if c.endswith('CrudePrev')],\n",
    "                       'Physical health': [np.nan for c in tracts_health.columns if c.endswith('CrudePrev')], 'Poverty Rate': [np.nan for c in tracts_health.columns if c.endswith('CrudePrev')], \n",
    "                            'RSquared': [np.nan for c in tracts_health.columns if c.endswith('CrudePrev')], \n",
    "                            'MSE': [np.nan for c in tracts_health.columns if c.endswith('CrudePrev')]})\n",
    "add_vars = ['PovertyRate']"
   ]
  },
  {
   "cell_type": "code",
   "execution_count": null,
   "id": "be326e05",
   "metadata": {},
   "outputs": [],
   "source": [
    "def update_all_vars():\n",
    "        results.iat[i, 0] = name\n",
    "        results.iat[i, 1] = regr.coef_[0]\n",
    "        results.iat[i, 2] = regr.coef_[1]\n",
    "        results.iat[i, 3] = regr.coef_[2]\n",
    "        results.iat[i, 4] = regr.coef_[3]\n",
    "        results.iat[i, 5] = regr.coef_[4]\n",
    "        results.iat[i, 6] = regr.coef_[5]\n",
    "        results.iat[i, 7] = regr.score(X_test, y_test)\n",
    "        results.iat[i, 8] = mse_test\n",
    "def update_vars():\n",
    "        results.iat[i, 0] = name\n",
    "        results.iat[i, 1] = regr.coef_[0]\n",
    "        results.iat[i, 2] = regr.coef_[1]\n",
    "        results.iat[i, 3] = regr.coef_[2]\n",
    "        results.iat[i, 4] = regr.score(X_test, y_test)\n",
    "        results.iat[i, 5] = mse_test"
   ]
  },
  {
   "cell_type": "markdown",
   "id": "5674a5e3",
   "metadata": {},
   "source": [
    "## Run LASSO regression:\n",
    "- For all deserts types; *all_deserts = True*\n",
    "- Food and physical activity deserts only; *all_deserts = False*\n",
    "- With log transformed desert measures; *log_transf = True*\n",
    "- Without log transformed desert measures; *log_transf = False*"
   ]
  },
  {
   "cell_type": "code",
   "execution_count": null,
   "id": "e9b0d0dd",
   "metadata": {},
   "outputs": [],
   "source": [
    "#set desert and log transformation params\n",
    "all_deserts=False\n",
    "log_transf = False"
   ]
  },
  {
   "cell_type": "code",
   "execution_count": null,
   "id": "7cf939e3",
   "metadata": {},
   "outputs": [],
   "source": [
    "if all_deserts == True:\n",
    "    desert_measures = ['food_closest_travel_times', 'physical_closest_dist', 'transport_closest_dist', 'education_closest_travel_times', 'worship_closest_travel_times']\n",
    "    results = results_all_nan.copy()\n",
    "    update_method = update_all_vars\n",
    "else:\n",
    "    desert_measures = ['food_closest_travel_times', 'physical_closest_dist']\n",
    "    results = results_nan.copy()\n",
    "    update_method = update_vars\n",
    "if log_transf == True:\n",
    "    df = tracts_health_logt\n",
    "else:\n",
    "    df = tracts_health\n",
    "alphas = []\n",
    "l1_ratios = []\n",
    "i=0\n",
    "\n",
    "\n",
    "for c in df.columns:\n",
    "    if c.endswith('CrudePrev'):\n",
    "        name = name_mapping[c[:-10].lower()]\n",
    "        \n",
    "        x = df[desert_measures+add_vars].to_numpy(copy=True)\n",
    "        scaler = StandardScaler()\n",
    "        xscale = scaler.fit_transform(x)\n",
    "        \n",
    "        y = df[c].to_numpy(copy=True)\n",
    "        \n",
    "        xscale = xscale[~np.isnan(y)]\n",
    "        \n",
    "        y = scale(y[~np.isnan(y)])\n",
    "        center_function = lambda x: x - x.mean()\n",
    "        y = center_function(y)\n",
    "        \n",
    "        X_train, X_test, y_train, y_test = train_test_split(xscale, \n",
    "                                                    y, \n",
    "                                                    test_size=0.3, \n",
    "                                                    random_state=42)\n",
    "        \n",
    "        lasso_cv = LassoCV(cv = 5, normalize=True).fit(X_train,y_train)\n",
    "        \n",
    "        alpha = lasso_cv.alpha_\n",
    "        alphas.append(alpha)\n",
    "        \n",
    "        regr = Lasso(alpha=alpha, normalize=True)\n",
    "        regr.fit(X_train, y_train.reshape(-1, 1))\n",
    "        \n",
    "        predictions = regr.predict(X_test)\n",
    "        y_train_pred = regr.predict(X_train)\n",
    "        mse_test = mean_squared_error(y_test, predictions)\n",
    "        \n",
    "        if all_deserts==True:\n",
    "            update_all_vars()\n",
    "        else:\n",
    "            update_vars()\n",
    "\n",
    "        i += 1\n",
    "\n",
    "results_round = results.round({'Food': 4, 'Physical health':4, 'Public transport':4, 'Education':4,\n",
    "             'House of worship':4, 'RSquared':4})\n",
    "results_round.sort_values(by='MSE').reset_index(drop=True)"
   ]
  },
  {
   "cell_type": "markdown",
   "id": "7559213a",
   "metadata": {},
   "source": [
    "## LASSO on Whole Dataset"
   ]
  },
  {
   "cell_type": "code",
   "execution_count": null,
   "id": "5d6524ad",
   "metadata": {},
   "outputs": [],
   "source": [
    "#set desert and log transformation params\n",
    "all_deserts=True\n",
    "log_transf = False"
   ]
  },
  {
   "cell_type": "code",
   "execution_count": null,
   "id": "2ab527f0",
   "metadata": {
    "scrolled": true
   },
   "outputs": [],
   "source": [
    "if all_deserts == True:\n",
    "    desert_measures = ['food_closest_travel_times', 'physical_closest_dist', 'transport_closest_dist', 'education_closest_travel_times', 'worship_closest_travel_times']\n",
    "    results = results_all_nan.copy()\n",
    "    update_method = update_all_vars\n",
    "else:\n",
    "    desert_measures = ['food_closest_travel_times', 'physical_closest_dist']\n",
    "    results = results_nan.copy()\n",
    "    update_method = update_vars\n",
    "if log_transf == True:\n",
    "    df = tracts_health_logt\n",
    "else:\n",
    "    df = tracts_health\n",
    "alphas = []\n",
    "l1_ratios = []\n",
    "i=0\n",
    "\n",
    "\n",
    "for c in df.columns:\n",
    "    if c.endswith('CrudePrev'):\n",
    "        name = name_mapping[c[:-10].lower()]\n",
    "        \n",
    "        x = df[desert_measures+add_vars].to_numpy(copy=True)\n",
    "        scaler = StandardScaler()\n",
    "        xscale = scaler.fit_transform(x)\n",
    "        y = df[c].to_numpy(copy=True)\n",
    "        xscale = xscale[~np.isnan(y)]\n",
    "        y = scale(y[~np.isnan(y)])\n",
    "        \n",
    "        X_train, X_test, y_train, y_test = train_test_split(xscale, \n",
    "                                                    y, \n",
    "                                                    test_size=0.3, \n",
    "                                                    random_state=42)\n",
    "        \n",
    "        #l1 ratio is from suggested values in ElasticNetCV documentation\n",
    "        lasso_cv = LassoCV(cv = 5, normalize=True).fit(X_train,y_train)\n",
    "        \n",
    "        alpha = lasso_cv.alpha_\n",
    "        alphas.append(alpha)\n",
    "        \n",
    "        regr = Lasso(alpha=alpha, normalize=True)  # Could try others, or other parameters?\n",
    "        regr.fit(xscale, y.reshape(-1, 1))\n",
    "        \n",
    "        predictions = regr.predict(xscale)\n",
    "        mse_test = mean_squared_error(y, predictions)\n",
    "        \n",
    "        if all_deserts==True:\n",
    "            update_all_vars()\n",
    "        else:\n",
    "            update_vars()\n",
    "\n",
    "        i += 1\n",
    "\n",
    "results_round = results.round({'Food': 4, 'Physical health':4, 'Public transport':4, 'Education':4,\n",
    "             'House of worship':4, 'RSquared':4})\n",
    "results_round.sort_values(by='MSE').reset_index(drop=True)"
   ]
  },
  {
   "cell_type": "markdown",
   "id": "844bec88",
   "metadata": {},
   "source": [
    "### Save Output:"
   ]
  },
  {
   "cell_type": "code",
   "execution_count": null,
   "id": "13f30b57",
   "metadata": {},
   "outputs": [],
   "source": [
    "if all_deserts == True:\n",
    "    save_lasso_name_ = save_lasso_name + '_all'\n",
    "else:\n",
    "    save_lasso_name_ = save_lasso_name\n",
    "if log_transf == True:\n",
    "    save_lasso_name_ = save_lasso_name + '_logt'\n",
    "else:\n",
    "    save_lasso_name_ = save_lasso_name\n",
    "results_round.to_csv(save_regression_path+save_lasso_name_+'.csv', index=False)"
   ]
  },
  {
   "cell_type": "code",
   "execution_count": null,
   "id": "673cd46d",
   "metadata": {},
   "outputs": [],
   "source": []
  }
 ],
 "metadata": {
  "kernelspec": {
   "display_name": "Python [conda env:root] *",
   "language": "python",
   "name": "conda-root-py"
  },
  "language_info": {
   "codemirror_mode": {
    "name": "ipython",
    "version": 3
   },
   "file_extension": ".py",
   "mimetype": "text/x-python",
   "name": "python",
   "nbconvert_exporter": "python",
   "pygments_lexer": "ipython3",
   "version": "3.9.7"
  }
 },
 "nbformat": 4,
 "nbformat_minor": 5
}

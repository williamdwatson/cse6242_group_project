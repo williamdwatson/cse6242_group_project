{
 "cells": [
  {
   "cell_type": "code",
   "execution_count": 1,
   "id": "aerial-dimension",
   "metadata": {},
   "outputs": [],
   "source": [
    "import shapefile as shp\n",
    "import pandas as pd\n",
    "import numpy as np\n",
    "import json\n",
    "from tqdm import tqdm\n",
    "import matplotlib.pyplot as plt"
   ]
  },
  {
   "cell_type": "code",
   "execution_count": 115,
   "id": "adult-positive",
   "metadata": {},
   "outputs": [],
   "source": [
    "# Load the shapefiles\n",
    "sf = shp.Reader(r'C:\\Users\\willd\\Documents\\Georgia Tech\\CSE6424\\Project\\census_tract_Georgia\\cb_2018_13_tract_500k.shp')"
   ]
  },
  {
   "cell_type": "code",
   "execution_count": 116,
   "id": "infinite-turkish",
   "metadata": {},
   "outputs": [],
   "source": [
    "records = sf.shapeRecords()"
   ]
  },
  {
   "cell_type": "code",
   "execution_count": 117,
   "id": "constitutional-apartment",
   "metadata": {},
   "outputs": [
    {
     "data": {
      "text/plain": [
       "[('DeletionFlag', 'C', 1, 0),\n",
       " ['STATEFP', 'C', 2, 0],\n",
       " ['COUNTYFP', 'C', 3, 0],\n",
       " ['TRACTCE', 'C', 6, 0],\n",
       " ['AFFGEOID', 'C', 20, 0],\n",
       " ['GEOID', 'C', 11, 0],\n",
       " ['NAME', 'C', 100, 0],\n",
       " ['LSAD', 'C', 2, 0],\n",
       " ['ALAND', 'N', 14, 0],\n",
       " ['AWATER', 'N', 14, 0]]"
      ]
     },
     "execution_count": 117,
     "metadata": {},
     "output_type": "execute_result"
    }
   ],
   "source": [
    "# See whats in the records\n",
    "sf.fields"
   ]
  },
  {
   "cell_type": "code",
   "execution_count": 118,
   "id": "talented-leave",
   "metadata": {},
   "outputs": [],
   "source": [
    "# Load the tract or ZCTA file\n",
    "tract_file = 'atlanta_tract_health'\n",
    "df = pd.read_csv(r'C:\\Users\\willd\\Documents\\Georgia Tech\\CSE6424\\Project\\cse6242_group_project\\notebooks_updates\\data\\tract_health\\{}.csv'.format(tract_file))\n",
    "geojsons = []\n",
    "used_tract_ids = set()"
   ]
  },
  {
   "cell_type": "code",
   "execution_count": 119,
   "id": "distinguished-pointer",
   "metadata": {},
   "outputs": [
    {
     "name": "stderr",
     "output_type": "stream",
     "text": [
      "100%|████████████████████████████████████████████████████████████████████████████| 1966/1966 [00:01<00:00, 1687.45it/s]\n"
     ]
    }
   ],
   "source": [
    "# Match up the records by ID if possible\n",
    "for record in tqdm(records):\n",
    "    tract_id = int(record.record[4])\n",
    "    try:\n",
    "        row = df.loc[df['TractFIPS'] == tract_id].iloc[0]\n",
    "    except IndexError:\n",
    "        continue\n",
    "    try:\n",
    "        coords = np.array(record.__geo_interface__['geometry']['coordinates'][0])\n",
    "        if (coords[:, 0].ptp() > 0.1) or (coords[:, 1].ptp() > 0.1):\n",
    "            continue\n",
    "    except Exception:\n",
    "        pass\n",
    "    used_tract_ids.add(tract_id)\n",
    "    d = record.__geo_interface__\n",
    "    d['properties'] = {'id': tract_id}\n",
    "    for c in df.columns:\n",
    "        if c.endswith('_CrudePrev'):\n",
    "            d['properties'][c] = row[c]\n",
    "    for c in ('education_closest_travel_times', 'food_closest_travel_times', 'worship_closest_travel_times',\n",
    "              'physical_closest_dist', 'transport_closest_dist', 'PovertyRate'):\n",
    "        d['properties']['MedianFamilyIncome' if c == 'Household median income' else c] = row[c]\n",
    "    geojsons.append(d)"
   ]
  },
  {
   "cell_type": "code",
   "execution_count": 120,
   "id": "unlikely-wiring",
   "metadata": {},
   "outputs": [],
   "source": [
    "# Repeat if there are multiple shapefiles (for instance if the city is in two states)\n",
    "#sf2 = shp.Reader(r'C:\\Users\\willd\\Documents\\Georgia Tech\\CSE6424\\Project\\census_tract_New_York\\cb_2018_36_tract_500k.shp')"
   ]
  },
  {
   "cell_type": "code",
   "execution_count": 121,
   "id": "announced-tours",
   "metadata": {},
   "outputs": [],
   "source": [
    "#records2 = sf2.shapeRecords()"
   ]
  },
  {
   "cell_type": "code",
   "execution_count": 122,
   "id": "timely-society",
   "metadata": {},
   "outputs": [],
   "source": [
    "# for record in tqdm(records2):\n",
    "#     tract_id = int(record.record[4])\n",
    "#     if tract_id in used_tract_ids:\n",
    "#         continue\n",
    "#     try:\n",
    "#         row = df.loc[df['TractFIPS'] == tract_id].iloc[0]\n",
    "#     except IndexError:\n",
    "#         continue\n",
    "#     used_tract_ids.add(tract_id)\n",
    "#     d = record.__geo_interface__\n",
    "#     d['properties'] = {'id': tract_id}\n",
    "#     for c in df.columns:\n",
    "#         if c.endswith('_CrudePrev'):\n",
    "#             d['properties'][c] = row[c]\n",
    "#     for c in ('education_closest_travel_times', 'food_closest_travel_times', 'worship_closest_travel_times',\n",
    "#               'physical_closest_dist', 'transport_closest_dist', 'LowIncomeTracts', 'PovertyRate', 'MedianFamilyIncome'):\n",
    "#         d['properties'][c] = row[c]\n",
    "#     geojsons.append(d)"
   ]
  },
  {
   "cell_type": "code",
   "execution_count": 123,
   "id": "classified-cancellation",
   "metadata": {},
   "outputs": [
    {
     "data": {
      "text/plain": [
       "196"
      ]
     },
     "execution_count": 123,
     "metadata": {},
     "output_type": "execute_result"
    }
   ],
   "source": [
    "# How many ZCTAs did we find?\n",
    "len(geojsons)"
   ]
  },
  {
   "cell_type": "code",
   "execution_count": 124,
   "id": "understood-apple",
   "metadata": {},
   "outputs": [],
   "source": [
    "# Prep the JSON format\n",
    "geojsons = {\"type\":\"FeatureCollection\", \"features\": geojsons}"
   ]
  },
  {
   "cell_type": "code",
   "execution_count": 125,
   "id": "southeast-scheme",
   "metadata": {},
   "outputs": [],
   "source": [
    "# See https://stackoverflow.com/questions/50916422/python-typeerror-object-of-type-int64-is-not-json-serializable\n",
    "class NpEncoder(json.JSONEncoder):\n",
    "    def default(self, obj):\n",
    "        if isinstance(obj, np.integer):\n",
    "            return int(obj)\n",
    "        if isinstance(obj, np.floating):\n",
    "            if np.isnan(obj):\n",
    "                return None\n",
    "            return float(obj)\n",
    "        if isinstance(obj, np.ndarray):\n",
    "            return obj.tolist()\n",
    "        if isinstance(obj, float) and np.isnan(obj):\n",
    "            return None\n",
    "        return super(NpEncoder, self).default(obj)"
   ]
  },
  {
   "cell_type": "code",
   "execution_count": 126,
   "id": "commercial-variance",
   "metadata": {},
   "outputs": [],
   "source": [
    "# Save if off based on the original name\n",
    "with open(r'C:\\Users\\willd\\Documents\\Georgia Tech\\CSE6424\\Project\\cse6242_group_project\\visualization\\{}.json'.format(tract_file), 'w') as f:\n",
    "    json.dump(geojsons, f, cls=NpEncoder)"
   ]
  }
 ],
 "metadata": {
  "kernelspec": {
   "display_name": "Python 3",
   "language": "python",
   "name": "python3"
  },
  "language_info": {
   "codemirror_mode": {
    "name": "ipython",
    "version": 3
   },
   "file_extension": ".py",
   "mimetype": "text/x-python",
   "name": "python",
   "nbconvert_exporter": "python",
   "pygments_lexer": "ipython3",
   "version": "3.7.10"
  }
 },
 "nbformat": 4,
 "nbformat_minor": 5
}

{
 "cells": [
  {
   "cell_type": "code",
   "execution_count": null,
   "id": "4dfec295",
   "metadata": {},
   "outputs": [],
   "source": [
    "import h5py\n",
    "import osmnx as ox\n",
    "import pandas as pd\n",
    "import numpy as np\n",
    "import networkx as nx\n",
    "from tqdm import tqdm\n",
    "from itertools import product\n",
    "from functools import cache\n",
    "from scipy.spatial import KDTree\n",
    "from haversine import haversine\n",
    "from shapely.geometry import Point"
   ]
  },
  {
   "cell_type": "code",
   "execution_count": null,
   "id": "5ebcd8b3",
   "metadata": {},
   "outputs": [],
   "source": [
    "houston_countyfips = ['48291', '48039', '48071', '48157', '48167', '48201', '48339', '48473']\n",
    "#all tracts start with\n",
    "hamiltoncounty_fips = '39061' \n",
    "kingscounty_fips = '53033'\n",
    "sf_fips = '06075'\n",
    "fultoncounty_fips = '13121'\n",
    "\n",
    "#source https://www.census.gov/geographies/reference-files/time-series/geo/gazetteer-files.2019.html\n",
    "tractcenters = pd.read_csv(\"data/2019_Gaz_tracts_national.txt\", sep='\\t', dtype=str)\n",
    "tractcenters.rename(columns={'INTPTLONG                                                                                                                             ':'INTPTLONG'}, inplace=True)\n",
    "tractcenters['COUNTYFP'] = tractcenters['GEOID'].apply(lambda x: x[:5])\n",
    "tractcenters = tractcenters[['GEOID', 'COUNTYFP', 'INTPTLAT','INTPTLONG']]"
   ]
  },
  {
   "cell_type": "code",
   "execution_count": null,
   "id": "c8e7c2a0",
   "metadata": {},
   "outputs": [],
   "source": [
    "def coords_in_city(place, lats, lons):\n",
    "    gdf = ox.geocode_to_gdf(place)\n",
    "    geom = gdf.loc[0, 'geometry']\n",
    "\n",
    "    # get the bounding box of the city\n",
    "    geom.bounds\n",
    "\n",
    "    # determine if a point is within the city boundary\n",
    "    mask = []\n",
    "    for lat, lon in zip(lats, lons):\n",
    "        coords = (lon, lat)\n",
    "        mask.append(geom.intersects(Point(coords)))\n",
    "    return mask"
   ]
  },
  {
   "cell_type": "code",
   "execution_count": null,
   "id": "f4d1c65f",
   "metadata": {
    "scrolled": true
   },
   "outputs": [],
   "source": [
    "tractcenters_cinci = tractcenters.copy()[tractcenters['COUNTYFP'] == hamiltoncounty_fips]\n",
    "place = 'Cincinnati, Ohio'                     \n",
    "lats = tractcenters_cinci.copy()['INTPTLAT'].astype(float).to_numpy()\n",
    "lons = tractcenters_cinci.copy()['INTPTLONG'].astype(float).to_numpy()\n",
    "mask = coords_in_city(place, lats, lons)\n",
    "tractcenters_cinci[mask].to_csv('data/tract_centers/tractcenters_cinci.csv', index=False)"
   ]
  },
  {
   "cell_type": "code",
   "execution_count": null,
   "id": "2ab2bead",
   "metadata": {},
   "outputs": [],
   "source": [
    "tractcenters_hou = tractcenters.copy()[tractcenters['COUNTYFP'].isin(houston_countyfips)]\n",
    "tractcenters_hou.to_csv('data/tract_centers/tractcenters_hou.csv', index=False)"
   ]
  },
  {
   "cell_type": "code",
   "execution_count": null,
   "id": "6492ef69",
   "metadata": {},
   "outputs": [],
   "source": [
    "tractcenters_sea = tractcenters.copy()[tractcenters['COUNTYFP'] == kingscounty_fips]\n",
    "place='Seattle, Washington'\n",
    "lats = tractcenters_sea.copy()['INTPTLAT'].astype(float).to_numpy()\n",
    "lons = tractcenters_sea.copy()['INTPTLONG'].astype(float).to_numpy()\n",
    "mask = coords_in_city(place, lats, lons)\n",
    "tractcenters_sea[mask].to_csv('data/tract_centers/tractcenters_seattle.csv', index=False)"
   ]
  },
  {
   "cell_type": "code",
   "execution_count": null,
   "id": "16e41ad7",
   "metadata": {},
   "outputs": [],
   "source": [
    "tractcenters_sf = tractcenters.copy()[tractcenters['COUNTYFP'] == sf_fips]\n",
    "tractcenters_sf.to_csv('data/tract_centers/tractcenters_sf.csv',index=False)"
   ]
  },
  {
   "cell_type": "code",
   "execution_count": null,
   "id": "af550685",
   "metadata": {},
   "outputs": [],
   "source": [
    "tractcenters_nyc = pd.read_csv(\"data/ny_tracts.csv\", dtype=str)\n",
    "tractcenters_nyc['CountyFIPS'] = tractcenters_nyc['STATEFP']+tractcenters_nyc['COUNTYFP']\n",
    "tractcenters_nyc['TractFIPS'] = tractcenters_nyc['STATEFP']+tractcenters_nyc['COUNTYFP']+tractcenters_nyc['TRACTCE']\n",
    "tractcenters_nyc = tractcenters_nyc[tractcenters_nyc['CountyFIPS'].isin(['36081', '36061', '36005', '36047', '36085'])]\n",
    "tractcenters = tractcenters.astype({'TractFIPS':'int'})\n",
    "tracts = tractcenters_nyc['TractFIPS'].to_numpy()\n",
    "tractcenters_nyc.drop(['STATEFP','COUNTYFP', 'TRACTCE'], inplace=True, axis=1)\n",
    "tractcenters_nyc.to_csv('data/tract_centers/tractcenters_nyc.csv',index=False)"
   ]
  },
  {
   "cell_type": "code",
   "execution_count": null,
   "id": "fef5fca9",
   "metadata": {},
   "outputs": [],
   "source": [
    "tractcenters_atl = tractcenters.copy()[tractcenters['COUNTYFP'] == fultoncounty_fips]\n",
    "place='Atlanta, Georgia'\n",
    "lats = tractcenters_atl.copy()['INTPTLAT'].astype(float).to_numpy()\n",
    "lons = tractcenters_atl.copy()['INTPTLONG'].astype(float).to_numpy()\n",
    "mask = coords_in_city(place, lats, lons)\n",
    "tractcenters_atl.to_csv('data/tract_centers/tractcenters_atlanta.csv',index=False)"
   ]
  },
  {
   "cell_type": "code",
   "execution_count": null,
   "id": "f9dbd729",
   "metadata": {},
   "outputs": [],
   "source": [
    "food_atlas = pd.read_excel('data/FoodAccessResearchAtlasData2019.xlsx', sheet_name = 'Food Access Research Atlas', dtype=str)\n",
    "income_vars = food_atlas[['CensusTract', 'LowIncomeTracts', 'PovertyRate', 'MedianFamilyIncome']] \\\n",
    ".rename(columns={'CensusTract':'TractFIPS'}).astype({'LowIncomeTracts':int, 'MedianFamilyIncome':'float', 'PovertyRate':'float'})\n",
    "income_vars.to_csv('data/tract_incomevars.csv', index=False)"
   ]
  },
  {
   "cell_type": "code",
   "execution_count": null,
   "id": "f4e60571",
   "metadata": {},
   "outputs": [],
   "source": []
  }
 ],
 "metadata": {
  "kernelspec": {
   "display_name": "Python [conda env:ox]",
   "language": "python",
   "name": "conda-env-ox-py"
  },
  "language_info": {
   "codemirror_mode": {
    "name": "ipython",
    "version": 3
   },
   "file_extension": ".py",
   "mimetype": "text/x-python",
   "name": "python",
   "nbconvert_exporter": "python",
   "pygments_lexer": "ipython3",
   "version": "3.10.4"
  }
 },
 "nbformat": 4,
 "nbformat_minor": 5
}
